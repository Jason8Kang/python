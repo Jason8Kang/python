{
 "cells": [
  {
   "cell_type": "code",
   "execution_count": 3,
   "metadata": {
    "collapsed": false
   },
   "outputs": [
    {
     "name": "stdout",
     "output_type": "stream",
     "text": [
      "0.16.0\n"
     ]
    }
   ],
   "source": [
    "#!/usr/bin/python\n",
    "# -*- coding:utf-8 -*-\n",
    "\n",
    "# 导入NumPy函数库，一般都是用这样的形式(包括别名np，几乎是约定俗成的)\n",
    "import numpy as np\n",
    "import matplotlib as mpl\n",
    "from mpl_toolkits.mplot3d import Axes3D\n",
    "from matplotlib import cm\n",
    "import time\n",
    "from scipy.optimize import leastsq\n",
    "from scipy import stats\n",
    "import scipy.optimize as opt\n",
    "import scipy\n",
    "import matplotlib.pyplot as plt\n",
    "from scipy.stats import norm, poisson\n",
    "from scipy.interpolate import BarycentricInterpolator\n",
    "#from scipy.interpolate import CubicSpline\n",
    "import math\n",
    "import seaborn\n",
    "import scipy\n",
    "print scipy.__version__\n",
    "#we can check the version by import.__version__"
   ]
  },
  {
   "cell_type": "code",
   "execution_count": 4,
   "metadata": {
    "collapsed": false
   },
   "outputs": [
    {
     "name": "stdout",
     "output_type": "stream",
     "text": [
      "L =  [1, 2, 3, 4, 5, 6]\n",
      "a =  [1 2 3 4 5 6]\n",
      "<type 'numpy.ndarray'>\n",
      "[[ 1  2  3  4]\n",
      " [ 5  6  7  8]\n",
      " [ 9 10 11 12]]\n"
     ]
    }
   ],
   "source": [
    "# 1.使用array创建\n",
    "#  通过array函数传递list对象\n",
    "L = [1, 2, 3, 4, 5, 6]\n",
    "print \"L = \", L\n",
    "a = np.array(L)\n",
    "print \"a = \", a\n",
    "print type(a)\n",
    "# # 若传递的是多层嵌套的list，将创建多维数组\n",
    "b = np.array([[1, 2, 3, 4], [5, 6, 7, 8], [9, 10, 11, 12]])\n",
    "print b"
   ]
  },
  {
   "cell_type": "code",
   "execution_count": 5,
   "metadata": {
    "collapsed": false
   },
   "outputs": [
    {
     "name": "stdout",
     "output_type": "stream",
     "text": [
      "(6L,)\n",
      "(3L, 4L)\n"
     ]
    }
   ],
   "source": [
    "# # # 数组大小可以通过其shape属性获得\n",
    "print a.shape\n",
    "print b.shape"
   ]
  },
  {
   "cell_type": "code",
   "execution_count": 7,
   "metadata": {
    "collapsed": false
   },
   "outputs": [
    {
     "name": "stdout",
     "output_type": "stream",
     "text": [
      "[[ 1  2  3]\n",
      " [ 4  5  6]\n",
      " [ 7  8  9]\n",
      " [10 11 12]]\n",
      "<type 'tuple'>\n"
     ]
    }
   ],
   "source": [
    "# # 也可以强制修改shape\n",
    "b.shape = (4, 3)\n",
    "print b\n",
    "# # # 注：从(3,4)改为(4,3)并不是对数组进行转置，而只是改变每个轴的大小，数组元素在内存中的位置并没有改变\n",
    "# #\n",
    "# # 当某个轴为-1时，将根据数组元素的个数自动计算此轴的长度\n",
    "b.shape = 2, -1\n",
    "print type(b.shape)"
   ]
  },
  {
   "cell_type": "code",
   "execution_count": 20,
   "metadata": {
    "collapsed": false
   },
   "outputs": [
    {
     "name": "stdout",
     "output_type": "stream",
     "text": [
      "(3L, 4L)\n",
      "b = \n",
      "[[ 1  2  3  4]\n",
      " [ 5  6  7  8]\n",
      " [ 9 10 11 12]]\n",
      "c = \n",
      "[[ 1  2  3]\n",
      " [ 4  5  6]\n",
      " [ 7  8  9]\n",
      " [10 11 12]]\n"
     ]
    }
   ],
   "source": [
    "print b.shape\n",
    "# #\n",
    "b.shape = [3, 4]\n",
    "# # 使用reshape方法，可以创建改变了尺寸的新数组，原数组的shape保持不变\n",
    "c = b.reshape((4, -1))\n",
    "print \"b = \\n\", b\n",
    "print 'c = \\n', c"
   ]
  },
  {
   "cell_type": "code",
   "execution_count": 21,
   "metadata": {
    "collapsed": false
   },
   "outputs": [
    {
     "name": "stdout",
     "output_type": "stream",
     "text": [
      "b = \n",
      "[[ 1 20  3  4]\n",
      " [ 5  6  7  8]\n",
      " [ 9 10 11 12]]\n",
      "c = \n",
      "[[ 1 20  3]\n",
      " [ 4  5  6]\n",
      " [ 7  8  9]\n",
      " [10 11 12]]\n"
     ]
    }
   ],
   "source": [
    "# # 数组b和c共享内存，修改任意一个将影响另外一个\n",
    "b[0][1] = 20\n",
    "print \"b = \\n\", b\n",
    "print \"c = \\n\", c"
   ]
  },
  {
   "cell_type": "code",
   "execution_count": 23,
   "metadata": {
    "collapsed": false
   },
   "outputs": [
    {
     "name": "stdout",
     "output_type": "stream",
     "text": [
      "int32\n",
      "int32\n"
     ]
    }
   ],
   "source": [
    "# # 数组的元素类型可以通过dtype属性获得\n",
    "print a.dtype\n",
    "print b.dtype"
   ]
  },
  {
   "cell_type": "code",
   "execution_count": 28,
   "metadata": {
    "collapsed": false
   },
   "outputs": [
    {
     "name": "stdout",
     "output_type": "stream",
     "text": [
      "[[  1.   2.   3.   4.]\n",
      " [  5.   6.   7.   8.]\n",
      " [  9.  10.  11.  12.]]\n",
      "[[  1.+0.j   2.+0.j   3.+0.j   4.+0.j]\n",
      " [  5.+0.j   6.+0.j   7.+0.j   8.+0.j]\n",
      " [  9.+0.j  10.+0.j  11.+0.j  12.+0.j]]\n"
     ]
    }
   ],
   "source": [
    "# # # 可以通过dtype参数在创建时指定元素类型\n",
    "d = np.array([[1, 2, 3, 4], [5, 6, 7, 8], [9, 10, 11, 12]], dtype=np.float)\n",
    "f = np.array([[1, 2, 3, 4], [5, 6, 7, 8], [9, 10, 11, 12]], dtype=np.complex)\n",
    "print d\n",
    "print f"
   ]
  },
  {
   "cell_type": "code",
   "execution_count": 29,
   "metadata": {
    "collapsed": false
   },
   "outputs": [
    {
     "name": "stdout",
     "output_type": "stream",
     "text": [
      "[[  1.   2.   3.   4.]\n",
      " [  5.   6.   7.   8.]\n",
      " [  9.  10.  11.  12.]]\n",
      "[[ 1  2  3  4]\n",
      " [ 5  6  7  8]\n",
      " [ 9 10 11 12]]\n",
      "[[         0 1072693248          0 1073741824          0 1074266112\n",
      "           0 1074790400]\n",
      " [         0 1075052544          0 1075314688          0 1075576832\n",
      "           0 1075838976]\n",
      " [         0 1075970048          0 1076101120          0 1076232192\n",
      "           0 1076363264]]\n"
     ]
    }
   ],
   "source": [
    "# # 如果更改元素类型，可以使用astype安全的转换\n",
    "print d\n",
    "f = d.astype(np.int)\n",
    "print f\n",
    "#\n",
    "# # 但不要强制仅修改元素类型，如下面这句，将会以int来解释单精度float类型\n",
    "d.dtype = np.int\n",
    "print d"
   ]
  },
  {
   "cell_type": "code",
   "execution_count": 30,
   "metadata": {
    "collapsed": false
   },
   "outputs": [
    {
     "name": "stdout",
     "output_type": "stream",
     "text": [
      "[ 1.   1.5  2.   2.5  3.   3.5  4.   4.5  5.   5.5  6.   6.5  7.   7.5  8.\n",
      "  8.5  9.   9.5]\n",
      "b =  [  1.   2.   3.   4.   5.   6.   7.   8.   9.  10.]\n",
      "c =  [ 1.   1.9  2.8  3.7  4.6  5.5  6.4  7.3  8.2  9.1]\n"
     ]
    }
   ],
   "source": [
    "a = np.arange(1, 10, 0.5)\n",
    "print a\n",
    "# #\n",
    "# # linspace函数通过指定起始值、终止值和元素个数来创建数组，缺省包括终止值\n",
    "b = np.linspace(1, 10, 10)\n",
    "print 'b = ', b\n",
    "# #\n",
    "# 可以通过endpoint关键字指定是否包括终值\n",
    "c = np.linspace(1, 10, 10, endpoint=False)\n",
    "print 'c = ', c"
   ]
  },
  {
   "cell_type": "code",
   "execution_count": 32,
   "metadata": {
    "collapsed": false
   },
   "outputs": [
    {
     "name": "stdout",
     "output_type": "stream",
     "text": [
      "[  10.           13.33521432   17.7827941    23.71373706   31.6227766\n",
      "   42.16965034   56.23413252   74.98942093  100.        ]\n",
      "[  1.00000000e+00   2.00000000e+00   4.00000000e+00   8.00000000e+00\n",
      "   1.60000000e+01   3.20000000e+01   6.40000000e+01   1.28000000e+02\n",
      "   2.56000000e+02   5.12000000e+02   1.02400000e+03]\n"
     ]
    }
   ],
   "source": [
    "# 和linspace类似，logspace可以创建等比数列\n",
    "# 下面函数创建起始值为10^1，终止值为10^2，有10个数的等比数列\n",
    "d = np.logspace(1, 2, 9, endpoint=True)\n",
    "print d\n",
    "# #\n",
    "# # 下面创建起始值为2^0，终止值为2^10(包括)，有10个数的等比数列\n",
    "f = np.logspace(0, 10, 11, endpoint=True, base=2)\n",
    "print f"
   ]
  },
  {
   "cell_type": "code",
   "execution_count": 33,
   "metadata": {
    "collapsed": false
   },
   "outputs": [
    {
     "name": "stdout",
     "output_type": "stream",
     "text": [
      "[ 97  98  99 100]\n"
     ]
    }
   ],
   "source": [
    "# # 使用 frombuffer, fromstring, fromfile等函数可以从字节序列创建数组\n",
    "s = 'abcd'\n",
    "g = np.fromstring(s, dtype=np.int8)\n",
    "print g"
   ]
  },
  {
   "cell_type": "code",
   "execution_count": 35,
   "metadata": {
    "collapsed": false
   },
   "outputs": [
    {
     "name": "stdout",
     "output_type": "stream",
     "text": [
      "[0 1 2 3 4 5 6 7 8 9]\n",
      "3\n",
      "[3 4 5]\n",
      "[0 1 2 3 4]\n",
      "[3 4 5 6 7 8 9]\n",
      "[1 3 5 7]\n",
      "[9 8 7 6 5 4 3 2 1 0]\n",
      "[ 0 10 20 30  4  5  6  7  8  9]\n"
     ]
    }
   ],
   "source": [
    "a = np.arange(10)\n",
    "print a\n",
    "# # 获取某个元素\n",
    "print a[3]\n",
    "# # # 切片[3,6)，左闭右开\n",
    "print a[3:6]\n",
    "# # # 省略开始下标，表示从0开始\n",
    "print a[:5]\n",
    "# # # 下标为负表示从后向前数\n",
    "print a[3:]\n",
    "# # # 步长为2\n",
    "print a[1:9:2]\n",
    "# # # 步长为-1，即翻转\n",
    "print a[::-1]\n",
    "# # # 切片数据是原数组的一个视图，与原数组共享内容空间，可以直接修改元素值\n",
    "a[1:4] = 10, 20, 30\n",
    "print a\n",
    "# # # 因此，在实践中，切实注意原始数据是否被破坏，如："
   ]
  },
  {
   "cell_type": "code",
   "execution_count": 36,
   "metadata": {
    "collapsed": false
   },
   "outputs": [
    {
     "name": "stdout",
     "output_type": "stream",
     "text": [
      "[  0  10 200  30   4   5   6   7   8   9]\n"
     ]
    }
   ],
   "source": [
    "b = a[2:5]\n",
    "b[0] = 200\n",
    "print a"
   ]
  },
  {
   "cell_type": "code",
   "execution_count": 37,
   "metadata": {
    "collapsed": false
   },
   "outputs": [
    {
     "name": "stdout",
     "output_type": "stream",
     "text": [
      "[   1.    2.    4.    8.   16.   32.   64.  128.  256.  512.]\n",
      "[0 2 4 6 8]\n",
      "[   1.    4.   16.   64.  256.]\n",
      "[   1.     4.     1.6   64.   256. ]\n",
      "[   1.    2.    4.    8.   16.   32.   64.  128.  256.  512.]\n"
     ]
    }
   ],
   "source": [
    "a = np.logspace(0, 9, 10, base=2)\n",
    "print a\n",
    "i = np.arange(0, 10, 2)\n",
    "print i\n",
    "# # # 利用i取a中的元素\n",
    "b = a[i]\n",
    "print b\n",
    "# # b的元素更改，a中元素不受影响\n",
    "b[2] = 1.6\n",
    "print b\n",
    "print a\n"
   ]
  },
  {
   "cell_type": "code",
   "execution_count": 40,
   "metadata": {
    "collapsed": false
   },
   "outputs": [
    {
     "name": "stdout",
     "output_type": "stream",
     "text": [
      "[ 0.79041432  0.2111665   0.65494138  0.56334118  0.1090475   0.4718729\n",
      "  0.73931841  0.09908562  0.86436191  0.85903348]\n",
      "[ True False  True  True False False  True False  True  True]\n",
      "[ 0.79041432  0.65494138  0.56334118  0.73931841  0.86436191  0.85903348]\n",
      "[ 0.5         0.2111665   0.5         0.5         0.1090475   0.4718729\n",
      "  0.5         0.09908562  0.5         0.5       ]\n",
      "[ 0.79041432  0.65494138  0.56334118  0.73931841  0.86436191  0.85903348]\n"
     ]
    }
   ],
   "source": [
    "# 生成10个满足[0,1)中均匀分布的随机数\n",
    "a = np.random.rand(10)\n",
    "print a\n",
    "# # 大于0.5的元素索引\n",
    "print a > 0.5\n",
    "# # # 大于0.5的元素\n",
    "b = a[a > 0.5]\n",
    "print b\n",
    "# # # 将原数组中大于0.5的元素截取成0.5\n",
    "a[a > 0.5] = 0.5\n",
    "print a\n",
    "# # # b不受影响\n",
    "print b"
   ]
  },
  {
   "cell_type": "code",
   "execution_count": 41,
   "metadata": {
    "collapsed": false
   },
   "outputs": [
    {
     "name": "stdout",
     "output_type": "stream",
     "text": [
      "a =  [ 0 10 20 30 40 50]\n",
      "[[ 0]\n",
      " [10]\n",
      " [20]\n",
      " [30]\n",
      " [40]\n",
      " [50]]\n",
      "[0 1 2 3 4 5]\n",
      "[[ 0  1  2  3  4  5]\n",
      " [10 11 12 13 14 15]\n",
      " [20 21 22 23 24 25]\n",
      " [30 31 32 33 34 35]\n",
      " [40 41 42 43 44 45]\n",
      " [50 51 52 53 54 55]]\n"
     ]
    }
   ],
   "source": [
    "a = np.arange(0, 60, 10)    # 行向量\n",
    "print 'a = ', a\n",
    "b = a.reshape((-1, 1))      # 转换成列向量\n",
    "print b\n",
    "c = np.arange(6)\n",
    "print c\n",
    "f = b + c   # 行 + 列\n",
    "print f"
   ]
  },
  {
   "cell_type": "code",
   "execution_count": 42,
   "metadata": {
    "collapsed": false
   },
   "outputs": [
    {
     "name": "stdout",
     "output_type": "stream",
     "text": [
      "[[ 0  1  2  3  4  5]\n",
      " [10 11 12 13 14 15]\n",
      " [20 21 22 23 24 25]\n",
      " [30 31 32 33 34 35]\n",
      " [40 41 42 43 44 45]\n",
      " [50 51 52 53 54 55]]\n",
      "[ 2 13 24]\n",
      "[42 43 44]\n",
      "[[42 43 44]\n",
      " [52 53 54]]\n",
      "[[ 0  1  2  3  4  5]\n",
      " [20 21 22 23 24 25]\n",
      " [50 51 52 53 54 55]]\n",
      "[ 3 23 53]\n"
     ]
    }
   ],
   "source": [
    "# 合并上述代码：\n",
    "a = np.arange(0, 60, 10).reshape((-1, 1)) + np.arange(6)\n",
    "print a\n",
    "# 二维数组的切片\n",
    "print a[[0, 1, 2], [2 ,3, 4]]\n",
    "print a[4, [2, 3, 4]]\n",
    "print a[4:, [2, 3, 4]]\n",
    "i = np.array([True, False, True, False, False, True])\n",
    "print a[i]\n",
    "print a[i, 3]"
   ]
  },
  {
   "cell_type": "code",
   "execution_count": 48,
   "metadata": {
    "collapsed": false
   },
   "outputs": [
    {
     "name": "stdout",
     "output_type": "stream",
     "text": [
      "1 :  1.24019444538e-05 1.15466379398e-05 0.931034482759\n",
      "5 :  0.000372485986872 1.41125574819e-05 0.0378874856487\n",
      "35 :  5.55949234137e-06 1.92443965663e-05 3.46153846154\n",
      "215 :  1.15466379398e-05 0.000100498515402 8.7037037037\n",
      "1291 :  3.80611398755e-05 0.000580325469788 15.2471910112\n",
      "7742 :  0.000210833055715 0.00378858020402 17.9695740365\n",
      "46415 :  0.00139543257768 0.0216157338765 15.4903463071\n",
      "278255 :  0.0128753566094 0.139803270949 10.8582057329\n",
      "1668100 :  0.0524580867734 0.779869762477 14.8665307953\n",
      "10000000 :  0.302965818103 4.66817528481 15.408257321\n"
     ]
    }
   ],
   "source": [
    "for j in np.logspace(0, 7, 10):\n",
    "    j = int(j)\n",
    "    x = np.linspace(0, 10, j)\n",
    "    start = time.clock()\n",
    "    y = np.sin(x)\n",
    "    t1 = time.clock() - start\n",
    "\n",
    "    x = x.tolist()\n",
    "    start = time.clock()\n",
    "    for i, t in enumerate(x):\n",
    "        x[i] = math.sin(t)\n",
    "    t2 = time.clock() - start\n",
    "    print j, \": \", t1, t2, t2/t1\n"
   ]
  },
  {
   "cell_type": "code",
   "execution_count": 52,
   "metadata": {
    "collapsed": false
   },
   "outputs": [
    {
     "name": "stdout",
     "output_type": "stream",
     "text": [
      "原始数组： [1 2 3 4 5 5 7 3 2 2 8 8]\n",
      "去重后： [1 2 3 4 5 7 8]\n",
      "二维数组 [[1 2]\n",
      " [3 4]\n",
      " [5 6]\n",
      " [1 3]\n",
      " [3 4]\n",
      " [7 6]]\n",
      "去重后： [1 2 3 4 5 6 7]\n"
     ]
    }
   ],
   "source": [
    "#4.2.1直接使用库函数\n",
    "a = np.array((1, 2, 3, 4, 5, 5, 7, 3, 2, 2, 8, 8))\n",
    "print '原始数组：', a\n",
    "# 使用库函数unique\n",
    "b = np.unique(a)\n",
    "print '去重后：', b\n",
    "# 4.2.2 二维数组的去重，结果会是预期的么？\n",
    "c = np.array(((1, 2), (3, 4), (5, 6), (1, 3), (3, 4), (7, 6)))\n",
    "print '二维数组', c\n",
    "print '去重后：', np.unique(c)\n"
   ]
  },
  {
   "cell_type": "code",
   "execution_count": 53,
   "metadata": {
    "collapsed": false
   },
   "outputs": [
    {
     "name": "stdout",
     "output_type": "stream",
     "text": [
      "转换成虚数： [ 1.+2.j  3.+4.j  5.+6.j  1.+3.j  3.+4.j  7.+6.j]\n",
      "虚数去重后： [ 1.+2.j  1.+3.j  3.+4.j  5.+6.j  7.+6.j]\n",
      "(array([ 1.+2.j,  1.+3.j,  3.+4.j,  5.+6.j,  7.+6.j]), array([0, 3, 1, 2, 5], dtype=int64))\n",
      "二维数组去重：\n",
      "[[1 2]\n",
      " [1 3]\n",
      " [3 4]\n",
      " [5 6]\n",
      " [7 6]]\n",
      "去重方案2：\n",
      "[[1 2]\n",
      " [5 6]\n",
      " [7 6]\n",
      " [1 3]\n",
      " [3 4]]\n"
     ]
    }
   ],
   "source": [
    "# 4.2.3 方案1：转换为虚数\n",
    "# r, i = np.split(c, (1, ), axis=1)\n",
    "# x = r + i * 1j\n",
    "x = c[:, 0] + c[:, 1] * 1j\n",
    "print '转换成虚数：', x\n",
    "print '虚数去重后：', np.unique(x)\n",
    "print np.unique(x, return_index=True)   # 思考return_index的意义\n",
    "idx = np.unique(x, return_index=True)[1]\n",
    "print '二维数组去重：\\n', c[idx]\n",
    "# 4.2.3 方案2：利用set\n",
    "print '去重方案2：\\n', np.array(list(set([tuple(t) for t in c])))"
   ]
  },
  {
   "cell_type": "code",
   "execution_count": 54,
   "metadata": {
    "collapsed": false,
    "scrolled": true
   },
   "outputs": [
    {
     "name": "stdout",
     "output_type": "stream",
     "text": [
      "a = \n",
      "[[1 2 3]\n",
      " [4 5 6]\n",
      " [7 8 9]]\n",
      "b = \n",
      "[[11 12 13]\n",
      " [14 15 16]\n",
      " [17 18 19]]\n",
      "c = \n",
      "[[101 102 103]\n",
      " [104 105 106]\n",
      " [107 108 109]]\n",
      "axis = 0 \n",
      "[[[  1   2   3]\n",
      "  [  4   5   6]\n",
      "  [  7   8   9]]\n",
      "\n",
      " [[ 11  12  13]\n",
      "  [ 14  15  16]\n",
      "  [ 17  18  19]]\n",
      "\n",
      " [[101 102 103]\n",
      "  [104 105 106]\n",
      "  [107 108 109]]]\n",
      "axis = 1 \n",
      "[[[  1   2   3]\n",
      "  [ 11  12  13]\n",
      "  [101 102 103]]\n",
      "\n",
      " [[  4   5   6]\n",
      "  [ 14  15  16]\n",
      "  [104 105 106]]\n",
      "\n",
      " [[  7   8   9]\n",
      "  [ 17  18  19]\n",
      "  [107 108 109]]]\n",
      "axis = 2 \n",
      "[[[  1  11 101]\n",
      "  [  2  12 102]\n",
      "  [  3  13 103]]\n",
      "\n",
      " [[  4  14 104]\n",
      "  [  5  15 105]\n",
      "  [  6  16 106]]\n",
      "\n",
      " [[  7  17 107]\n",
      "  [  8  18 108]\n",
      "  [  9  19 109]]]\n"
     ]
    }
   ],
   "source": [
    "a = np.arange(1, 10).reshape((3, 3))\n",
    "b = np.arange(11, 20).reshape((3, 3))\n",
    "c = np.arange(101, 110).reshape((3, 3))\n",
    "print 'a = \\n', a\n",
    "print 'b = \\n', b\n",
    "print 'c = \\n', c\n",
    "print 'axis = 0 \\n', np.stack((a, b, c), axis=0)\n",
    "print 'axis = 1 \\n', np.stack((a, b, c), axis=1)\n",
    "print 'axis = 2 \\n', np.stack((a, b, c), axis=2)"
   ]
  },
  {
   "cell_type": "code",
   "execution_count": 75,
   "metadata": {
    "collapsed": false
   },
   "outputs": [
    {
     "data": {
      "image/png": "[encoded data removed]",
      "text/plain": [
       "<matplotlib.figure.Figure at 0x1dda3a20>"
      ]
     },
     "metadata": {},
     "output_type": "display_data"
    }
   ],
   "source": [
    "# -*- coding:utf-8 -*-\n",
    "mpl.rcParams['font.sans-serif'] = [u'SimHei']  #FangSong/黑体 FangSong/KaiTi\n",
    "mpl.rcParams['axes.unicode_minus'] = False\n",
    "\n",
    "%matplotlib inline\n",
    "mu = 0\n",
    "sigma = 1\n",
    "x = np.linspace(mu - 3 * sigma, mu + 3 * sigma, 50)\n",
    "y = np.exp(-(x - mu) ** 2 / (2 * sigma ** 2)) / (math.sqrt(2 * math.pi) * sigma)\n",
    "plt.figure(facecolor='w')\n",
    "plt.plot(x, y, 'r-', x, y, 'go', linewidth=2, markersize=8)\n",
    "# r- and go means red line green o \n",
    "plt.grid(True)\n",
    "plt.xlabel('x',fontsize=15)\n",
    "plt.xlabel('y',fontsize=15)\n",
    "#plt.title('Guass')\n",
    "plt.title(u\"高斯分布图\")\n",
    "plt.show()"
   ]
  },
  {
   "cell_type": "code",
   "execution_count": 76,
   "metadata": {
    "collapsed": false
   },
   "outputs": [
    {
     "data": {
      "image/png": "[encoded data removed]",
      "text/plain": [
       "<matplotlib.figure.Figure at 0x3e22f470>"
      ]
     },
     "metadata": {},
     "output_type": "display_data"
    }
   ],
   "source": [
    "x = np.array(np.linspace(start=-2, stop=3, num=1001, dtype=np.float))\n",
    "y_logit = np.log(1 + np.exp(-x)) / math.log(2)\n",
    "y_boost = np.exp(-x)\n",
    "y_01 = x < 0\n",
    "y_hinge = 1.0 - x\n",
    "y_hinge[y_hinge < 0] = 0\n",
    "plt.plot(x, y_logit, 'r-', label='Logistic Loss', linewidth=2)\n",
    "plt.plot(x, y_01, 'g-', label='0/1 Loss', linewidth=2)\n",
    "plt.plot(x, y_hinge, 'b-', label='Hinge Loss', linewidth=2)\n",
    "plt.plot(x, y_boost, 'm--', label='Adaboost Loss', linewidth=2)\n",
    "plt.grid()\n",
    "plt.legend(loc='upper right')\n",
    "# plt.savefig('1.png')\n",
    "plt.show()"
   ]
  },
  {
   "cell_type": "code",
   "execution_count": 79,
   "metadata": {
    "collapsed": false
   },
   "outputs": [
    {
     "data": {
      "image/png": "[encoded data removed]",
      "text/plain": [
       "<matplotlib.figure.Figure at 0x1dd6f0b8>"
      ]
     },
     "metadata": {},
     "output_type": "display_data"
    }
   ],
   "source": [
    "# x ** x        x > 0\n",
    "# (-x) ** (-x)  x < 0\n",
    "def f(x):\n",
    "    y = np.ones_like(x)\n",
    "    i = x > 0\n",
    "    y[i] = np.power(x[i], x[i])\n",
    "    i = x < 0\n",
    "    y[i] = np.power(-x[i], -x[i])\n",
    "    return y\n",
    "\n",
    "x = np.linspace(-1.3, 1.3, 101)\n",
    "y = f(x)\n",
    "plt.plot(x, y, 'g-', label='x^x', linewidth=2)\n",
    "plt.grid()\n",
    "plt.legend(loc='upper left')\n",
    "plt.show()\n"
   ]
  },
  {
   "cell_type": "code",
   "execution_count": 80,
   "metadata": {
    "collapsed": false
   },
   "outputs": [
    {
     "data": {
      "image/png": "[encoded data removed]",
      "text/plain": [
       "<matplotlib.figure.Figure at 0x3781a160>"
      ]
     },
     "metadata": {},
     "output_type": "display_data"
    }
   ],
   "source": [
    "x = np.arange(1, 0, -0.001)\n",
    "y = (-3 * x * np.log(x) + np.exp(-(40 * (x - 1 / np.e)) ** 4) / 25) / 2\n",
    "plt.figure(figsize=(5,7))\n",
    "plt.plot(y, x, 'r-', linewidth=2)\n",
    "plt.grid(True)\n",
    "plt.show()"
   ]
  },
  {
   "cell_type": "code",
   "execution_count": 81,
   "metadata": {
    "collapsed": false
   },
   "outputs": [
    {
     "data": {
      "image/png": "[encoded data removed]",
      "text/plain": [
       "<matplotlib.figure.Figure at 0x3d00db70>"
      ]
     },
     "metadata": {},
     "output_type": "display_data"
    }
   ],
   "source": [
    "t = np.linspace(0, 7, 100)\n",
    "x = 16 * np.sin(t) ** 3\n",
    "y = 13 * np.cos(t) - 5 * np.cos(2*t) - 2 * np.cos(3*t) - np.cos(4*t)\n",
    "plt.plot(x, y, 'r-', linewidth=2)\n",
    "plt.grid(True)\n",
    "plt.show()\n"
   ]
  },
  {
   "cell_type": "code",
   "execution_count": 82,
   "metadata": {
    "collapsed": false
   },
   "outputs": [
    {
     "data": {
      "image/png": "[encoded data removed]",
      "text/plain": [
       "<matplotlib.figure.Figure at 0x3d4b4d68>"
      ]
     },
     "metadata": {},
     "output_type": "display_data"
    }
   ],
   "source": [
    "t = np.linspace(0, 50, num=1000)\n",
    "x = t*np.sin(t) + np.cos(t)\n",
    "y = np.sin(t) - t*np.cos(t)\n",
    "plt.plot(x, y, 'r-', linewidth=2)\n",
    "plt.grid()\n",
    "plt.show()"
   ]
  },
  {
   "cell_type": "code",
   "execution_count": 90,
   "metadata": {
    "collapsed": false
   },
   "outputs": [
    {
     "data": {
      "image/png": "[encoded data removed]",
      "text/plain": [
       "<matplotlib.figure.Figure at 0x33960ba8>"
      ]
     },
     "metadata": {},
     "output_type": "display_data"
    }
   ],
   "source": [
    "mpl.rcParams['font.sans-serif'] = [u'SimHei']  #黑体 FangSong/KaiTi\n",
    "mpl.rcParams['axes.unicode_minus'] = False\n",
    "x = np.arange(0, 10, 0.1)\n",
    "y = np.sin(x)\n",
    "plt.bar(x, y, width=0.04, linewidth=0.2)\n",
    "#plt.plot(x, y, 'r--', linewidth=2)\n",
    "#-- means spotted line\n",
    "plt.title(u'Sin曲线')\n",
    "plt.xticks(rotation=-60)\n",
    "plt.xlabel('X')\n",
    "plt.ylabel('Y')\n",
    "plt.grid()\n",
    "plt.show()"
   ]
  },
  {
   "cell_type": "code",
   "execution_count": 9,
   "metadata": {
    "collapsed": false
   },
   "outputs": [
    {
     "data": {
      "text/plain": [
       "'__main__'"
      ]
     },
     "execution_count": 9,
     "metadata": {},
     "output_type": "execute_result"
    }
   ],
   "source": [
    "__name__"
   ]
  },
  {
   "cell_type": "code",
   "execution_count": null,
   "metadata": {
    "collapsed": true
   },
   "outputs": [],
   "source": []
  },
  {
   "cell_type": "code",
   "execution_count": null,
   "metadata": {
    "collapsed": true
   },
   "outputs": [],
   "source": []
  },
  {
   "cell_type": "code",
   "execution_count": null,
   "metadata": {
    "collapsed": true
   },
   "outputs": [],
   "source": []
  },
  {
   "cell_type": "code",
   "execution_count": null,
   "metadata": {
    "collapsed": true
   },
   "outputs": [],
   "source": []
  },
  {
   "cell_type": "code",
   "execution_count": null,
   "metadata": {
    "collapsed": true
   },
   "outputs": [],
   "source": []
  },
  {
   "cell_type": "code",
   "execution_count": null,
   "metadata": {
    "collapsed": true
   },
   "outputs": [],
   "source": []
  },
  {
   "cell_type": "code",
   "execution_count": null,
   "metadata": {
    "collapsed": true
   },
   "outputs": [],
   "source": []
  },
  {
   "cell_type": "code",
   "execution_count": null,
   "metadata": {
    "collapsed": true
   },
   "outputs": [],
   "source": []
  },
  {
   "cell_type": "code",
   "execution_count": null,
   "metadata": {
    "collapsed": true
   },
   "outputs": [],
   "source": []
  },
  {
   "cell_type": "code",
   "execution_count": null,
   "metadata": {
    "collapsed": true
   },
   "outputs": [],
   "source": []
  },
  {
   "cell_type": "code",
   "execution_count": null,
   "metadata": {
    "collapsed": true
   },
   "outputs": [],
   "source": []
  },
  {
   "cell_type": "code",
   "execution_count": null,
   "metadata": {
    "collapsed": true
   },
   "outputs": [],
   "source": []
  },
  {
   "cell_type": "code",
   "execution_count": null,
   "metadata": {
    "collapsed": true
   },
   "outputs": [],
   "source": []
  },
  {
   "cell_type": "code",
   "execution_count": null,
   "metadata": {
    "collapsed": true
   },
   "outputs": [],
   "source": []
  },
  {
   "cell_type": "code",
   "execution_count": null,
   "metadata": {
    "collapsed": true
   },
   "outputs": [],
   "source": []
  },
  {
   "cell_type": "code",
   "execution_count": null,
   "metadata": {
    "collapsed": true
   },
   "outputs": [],
   "source": []
  },
  {
   "cell_type": "code",
   "execution_count": null,
   "metadata": {
    "collapsed": true
   },
   "outputs": [],
   "source": []
  },
  {
   "cell_type": "code",
   "execution_count": null,
   "metadata": {
    "collapsed": true
   },
   "outputs": [],
   "source": []
  },
  {
   "cell_type": "code",
   "execution_count": null,
   "metadata": {
    "collapsed": true
   },
   "outputs": [],
   "source": []
  },
  {
   "cell_type": "code",
   "execution_count": null,
   "metadata": {
    "collapsed": true
   },
   "outputs": [],
   "source": []
  },
  {
   "cell_type": "code",
   "execution_count": null,
   "metadata": {
    "collapsed": true
   },
   "outputs": [],
   "source": []
  }
 ],
 "metadata": {
  "kernelspec": {
   "display_name": "Python 2",
   "language": "python",
   "name": "python2"
  },
  "language_info": {
   "codemirror_mode": {
    "name": "ipython",
    "version": 2
   },
   "file_extension": ".py",
   "mimetype": "text/x-python",
   "name": "python",
   "nbconvert_exporter": "python",
   "pygments_lexer": "ipython2",
   "version": "2.7.13"
  }
 },
 "nbformat": 4,
 "nbformat_minor": 0
}
