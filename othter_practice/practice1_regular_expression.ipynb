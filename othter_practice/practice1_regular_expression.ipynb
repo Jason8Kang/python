{
 "cells": [
  {
   "cell_type": "code",
   "execution_count": 32,
   "metadata": {
    "collapsed": false
   },
   "outputs": [],
   "source": [
    "import numpy as np\n",
    "a=1"
   ]
  },
  {
   "cell_type": "code",
   "execution_count": 41,
   "metadata": {
    "collapsed": false
   },
   "outputs": [
    {
     "name": "stdout",
     "output_type": "stream",
     "text": [
      "1 - 变量 a 和 b 都为 true\n",
      "2 - 变量 a 和 b 都为 true，或其中一个变量为 true\n",
      "3 - 变量 a 和 b 有一个不为 true\n",
      "4 - 变量 a 和 b 都为 true，或其中一个变量为 true\n",
      "5 - 变量 a 和 b 都为 false，或其中一个变量为 false\n"
     ]
    }
   ],
   "source": [
    "a = 10\n",
    "b = 20\n",
    " \n",
    "if ( a and b ):\n",
    "       print \"1 - 变量 a 和 b 都为 true\"\n",
    "else:\n",
    "    print \"1 - 变量 a 和 b 有一个不为 true\"\n",
    "\n",
    "if ( a or b ):\n",
    "    print \"2 - 变量 a 和 b 都为 true，或其中一个变量为 true\"\n",
    "else:\n",
    "    print \"2 - 变量 a 和 b 都不为 true\"\n",
    " \n",
    "# 修改变量 a 的值\n",
    "a = 0\n",
    "if ( a and b ):\n",
    "    print \"3 - 变量 a 和 b 都为 true\"\n",
    "else:\n",
    "    print \"3 - 变量 a 和 b 有一个不为 true\"\n",
    "    \n",
    "if ( a or b ):\n",
    "    print \"4 - 变量 a 和 b 都为 true，或其中一个变量为 true\"\n",
    "else:\n",
    "    print \"4 - 变量 a 和 b 都不为 true\"\n",
    "\n",
    "if not( a and b ):\n",
    "    print \"5 - 变量 a 和 b 都为 false，或其中一个变量为 false\"\n",
    "else:\n",
    "    print \"5 - 变量 a 和 b 都为 true\""
   ]
  },
  {
   "cell_type": "code",
   "execution_count": 57,
   "metadata": {
    "collapsed": false
   },
   "outputs": [
    {
     "name": "stdout",
     "output_type": "stream",
     "text": [
      "没有发现以字母c开头的项\n"
     ]
    }
   ],
   "source": [
    "s = [\"a111\", \"b222\", \"333\", \"d444\", \"e555\"]\n",
    "for c in s:\n",
    "    if c.startswith(\"c\"):\n",
    "        print u\"发现以字母c开头的项\"\n",
    "        break\n",
    "else:\n",
    "    print u\"没有发现以字母c开头的项\"\n"
   ]
  },
  {
   "cell_type": "code",
   "execution_count": 167,
   "metadata": {
    "collapsed": false
   },
   "outputs": [
    {
     "name": "stdout",
     "output_type": "stream",
     "text": [
      "['__class__', '__copy__', '__deepcopy__', '__delattr__', '__doc__', '__format__', '__getattribute__', '__hash__', '__init__', '__new__', '__reduce__', '__reduce_ex__', '__repr__', '__setattr__', '__sizeof__', '__str__', '__subclasshook__', 'end', 'endpos', 'expand', 'group', 'groupdict', 'groups', 'lastgroup', 'lastindex', 'pos', 're', 'regs', 'span', 'start', 'string']\n"
     ]
    }
   ],
   "source": [
    "print dir(match)"
   ]
  },
  {
   "cell_type": "code",
   "execution_count": 158,
   "metadata": {
    "collapsed": false
   },
   "outputs": [
    {
     "name": "stdout",
     "output_type": "stream",
     "text": [
      "电话号码是:  2004-959-559 \n",
      "电话号码是 :  2004959559\n"
     ]
    }
   ],
   "source": [
    "phone = \"2004-959-559 # 这是一个国外电话号码\"\n",
    " \n",
    "# 删除字符串中的 Python注释 \n",
    "num = re.sub(r'#.*$', \"\", phone)\n",
    "print \"电话号码是: \", num\n",
    " \n",
    "# 删除非数字(-)的字符串 \n",
    "num = re.sub(r'\\D', \"\", phone)\n",
    "print \"电话号码是 : \", num"
   ]
  },
  {
   "cell_type": "code",
   "execution_count": 179,
   "metadata": {
    "collapsed": false
   },
   "outputs": [
    {
     "name": "stdout",
     "output_type": "stream",
     "text": [
      "found word:cat\n"
     ]
    }
   ],
   "source": [
    "str = 'an example word:cat!wod:BAt!'\n",
    "match = re.search(r'word:\\w\\w\\w', str)\n",
    "# If-statement after search() tests if it succeeded\n",
    "if match is not None:                      \n",
    "    print 'found', match.group() ## 'found word:cat'\n",
    "else:\n",
    "    print 'did not find'"
   ]
  },
  {
   "cell_type": "code",
   "execution_count": 181,
   "metadata": {
    "collapsed": false
   },
   "outputs": [
    {
     "name": "stdout",
     "output_type": "stream",
     "text": [
      "<_sre.SRE_Match object at 0x00000000064F91D0>\n",
      "None\n",
      "iig\n",
      "123\n",
      "abc\n"
     ]
    }
   ],
   "source": [
    "## Search for pattern 'iii' in string 'piiig'.\n",
    "## All of the pattern must match, but it may appear anywhere.\n",
    "## On success, match.group() is matched text.\n",
    "match = re.search(r'iii', 'piiig')  \n",
    "print match.group() \n",
    "match = re.search(r'igs', 'piiig')\n",
    "print match\n",
    "## . = any char but \\n\n",
    "match = re.search(r'..g', 'piiig')\n",
    "print match.group()\n",
    "## \\d = digit char, \\w = word char\n",
    "match = re.search(r'\\d\\d\\d', 'p123g')\n",
    "print match.group()\n",
    "match = re.search(r'\\w\\w\\w', '@@abcd!!')\n",
    "print match.group()"
   ]
  },
  {
   "cell_type": "code",
   "execution_count": null,
   "metadata": {
    "collapsed": true
   },
   "outputs": [],
   "source": [
    " ## i+ = one or more i's, as many as possible.\n",
    "match = re.search(r'pi+', 'piiig') =>  found, match.group() == \"piii\"\n",
    "## Finds the first/leftmost solution, and within it drives the +\n",
    "## as far as possible (aka 'leftmost and largest').\n",
    "## In this example, note that it does not get to the second set of i's.\n",
    "match = re.search(r'i+', 'piigiiii') =>  found, match.group() == \"ii\"\n",
    "## \\s* = zero or more whitespace chars\n",
    "## Here look for 3 digits, possibly separated by whitespace.\n",
    "match = re.search(r'\\d\\s*\\d\\s*\\d', 'xx1 2   3xx') =>  found, match.group() == \"1 2   3\"\n",
    "match = re.search(r'\\d\\s*\\d\\s*\\d', 'xx12  3xx') =>  found, match.group() == \"12  3\"\n",
    "match = re.search(r'\\d\\s*\\d\\s*\\d', 'xx123xx') =>  found, match.group() == \"123\"\n",
    "## ^ = matches the start of string, so this fails:\n",
    "match = re.search(r'^b\\w+', 'foobar') =>  not found, match == None\n",
    "## but without the ^ it succeeds:\n",
    "match = re.search(r'b\\w+', 'foobar') =>  found, match.group() == \"bar\""
   ]
  },
  {
   "cell_type": "code",
   "execution_count": 184,
   "metadata": {
    "collapsed": false
   },
   "outputs": [
    {
     "name": "stdout",
     "output_type": "stream",
     "text": [
      "alice-b@google.com\n",
      "alice-b\n",
      "google.com\n"
     ]
    }
   ],
   "source": [
    "str = 'purple alice-b@google.com monkey dishwasher'\n",
    "match = re.search('([\\w.-]+)@([\\w.-]+)', str)\n",
    "if match:\n",
    "    print match.group(0)   ## 'alice-b@google.com' (the whole match)\n",
    "    print match.group(1)  ## 'alice-b' (the username, group 1)\n",
    "    print match.group(2)  ## 'google.com' (the host, group 2)"
   ]
  },
  {
   "cell_type": "code",
   "execution_count": 187,
   "metadata": {
    "collapsed": false
   },
   "outputs": [
    {
     "name": "stdout",
     "output_type": "stream",
     "text": [
      "alice@google.com\n",
      "bob@abc.com\n"
     ]
    }
   ],
   "source": [
    "## Suppose we have a text with many email addresses\n",
    "str = 'purple alice@google.com, blah monkey bob@abc.com blah dishwasher'\n",
    "## Here re.findall() returns a list of all the found email strings\n",
    "emails = re.findall(r'[\\w\\.-]+@[\\w\\.-]+', str) ## ['alice@google.com', 'bob@abc.com']\n",
    "for email in emails:\n",
    "# do something with each found email string\n",
    "    print email"
   ]
  },
  {
   "cell_type": "code",
   "execution_count": 188,
   "metadata": {
    "collapsed": false
   },
   "outputs": [
    {
     "data": {
      "text/plain": [
       "['alice@google.com', 'bob@abc.com']"
      ]
     },
     "execution_count": 188,
     "metadata": {},
     "output_type": "execute_result"
    }
   ],
   "source": [
    "emails"
   ]
  },
  {
   "cell_type": "code",
   "execution_count": 217,
   "metadata": {
    "collapsed": false
   },
   "outputs": [],
   "source": [
    "# Open file\n",
    "f = open('test.txt', 'r+')\n",
    "# Feed the file text into findall(); it returns a list of all the found strings\n",
    "strings = re.findall(r'some pattern', f.read())"
   ]
  },
  {
   "cell_type": "code",
   "execution_count": 221,
   "metadata": {
    "collapsed": false
   },
   "outputs": [
    {
     "name": "stdout",
     "output_type": "stream",
     "text": [
      "[('alice', 'google.com'), ('bob', 'abc.com')]\n"
     ]
    }
   ],
   "source": [
    "str = 'purple alice@google.com, blah monkey bob@abc.com blah dishwasher'\n",
    "tuples = re.findall(r'([\\w\\.-]+)@([\\w\\.-]+)', str,flags=)\n",
    "print tuples  ## [('alice', 'google.com'), ('bob', 'abc.com')]\n"
   ]
  },
  {
   "cell_type": "code",
   "execution_count": 230,
   "metadata": {
    "collapsed": false
   },
   "outputs": [
    {
     "name": "stdout",
     "output_type": "stream",
     "text": [
      "['<b>', '</b>', '<i>', '</i>']\n"
     ]
    }
   ],
   "source": [
    "str = '<b>foo</b> and <i>so on</i>'\n",
    "print re.findall(r'(<.*?>)', str,flags=0)\n"
   ]
  },
  {
   "cell_type": "code",
   "execution_count": 231,
   "metadata": {
    "collapsed": false
   },
   "outputs": [
    {
     "name": "stdout",
     "output_type": "stream",
     "text": [
      "purple alice@yo-yo-dyne.com, blah monkey bob@yo-yo-dyne.com blah dishwasher\n"
     ]
    }
   ],
   "source": [
    "str = 'purple alice@google.com, blah monkey bob@abc.com blah dishwasher'\n",
    "## re.sub(pat, replacement, str) -- returns new string with all replacements,\n",
    "## \\1 is group(1), \\2 group(2) in the replacement\n",
    "print re.sub(r'([\\w\\.-]+)@([\\w\\.-]+)', r'\\1@yo-yo-dyne.com', str)\n",
    "## purple alice@yo-yo-dyne.com, blah monkey bob@yo-yo-dyne.com blah dishwashe"
   ]
  },
  {
   "cell_type": "code",
   "execution_count": 232,
   "metadata": {
    "collapsed": false
   },
   "outputs": [
    {
     "name": "stdout",
     "output_type": "stream",
     "text": [
      "[('alice', 'google.com'), ('bob', 'abc.com')]\n"
     ]
    }
   ],
   "source": [
    "print re.findall(r'([\\w\\.-]+)@([\\w\\.-]+)',  str)"
   ]
  },
  {
   "cell_type": "code",
   "execution_count": 235,
   "metadata": {
    "collapsed": false
   },
   "outputs": [
    {
     "name": "stdout",
     "output_type": "stream",
     "text": [
      "matchObj.group() :  Cats are smarter than dogs\n",
      "matchObj.group(1) :  Cats\n",
      "matchObj.group(2) :  smarter than\n"
     ]
    }
   ],
   "source": [
    "line = \"Cats are smarter than dogs\"\n",
    " \n",
    "matchObj = re.match( r'(.*) are (.*) .*', line, re.M|re.I)\n",
    " \n",
    "if matchObj:\n",
    "    print \"matchObj.group() : \", matchObj.group()\n",
    "    print \"matchObj.group(1) : \", matchObj.group(1)\n",
    "    print \"matchObj.group(2) : \", matchObj.group(2)\n",
    "else:\n",
    "    print \"No match!!\""
   ]
  },
  {
   "cell_type": "code",
   "execution_count": 243,
   "metadata": {
    "collapsed": false
   },
   "outputs": [
    {
     "data": {
      "text/plain": [
       "'Doe, John: 555-1212'"
      ]
     },
     "execution_count": 243,
     "metadata": {},
     "output_type": "execute_result"
    }
   ],
   "source": [
    "contactInfo = 'Doe, John: 555-1212'\n",
    "re.search(r'\\w+, \\w+: \\S+', contactInfo).group()"
   ]
  },
  {
   "cell_type": "code",
   "execution_count": 253,
   "metadata": {
    "collapsed": false
   },
   "outputs": [],
   "source": [
    "match = re.search(r'(?P<first>\\w+), (?P<second>\\w+): (?P<third>\\S+)', contactInfo)"
   ]
  },
  {
   "cell_type": "code",
   "execution_count": 246,
   "metadata": {
    "collapsed": false
   },
   "outputs": [
    {
     "name": "stdout",
     "output_type": "stream",
     "text": [
      "Doe\n",
      "John\n",
      "555-1212\n"
     ]
    }
   ],
   "source": [
    "for i in [1,2,3]:\n",
    "    print match.group(i)"
   ]
  },
  {
   "cell_type": "code",
   "execution_count": 264,
   "metadata": {
    "collapsed": false
   },
   "outputs": [
    {
     "name": "stdout",
     "output_type": "stream",
     "text": [
      "电话号码是:  2004-959-559  这是一个国外电话号码\n"
     ]
    }
   ],
   "source": [
    "phone = \"2004-959-559 # 这是一个国外电话号码\"\n",
    " \n",
    "# 删除字符串中的 Python注释 \n",
    "num = re.sub(r'#.*?', \"\", phone)\n",
    "print \"电话号码是: \", num"
   ]
  },
  {
   "cell_type": "code",
   "execution_count": 265,
   "metadata": {
    "collapsed": false
   },
   "outputs": [
    {
     "name": "stdout",
     "output_type": "stream",
     "text": [
      "电话号码是 :  24959559\n"
     ]
    }
   ],
   "source": [
    "# 删除非数字(-)的字符串 \n",
    "num = re.sub(r'[^1-9]', \"\", phone)\n",
    "print \"电话号码是 : \", num"
   ]
  },
  {
   "cell_type": "code",
   "execution_count": 3,
   "metadata": {
    "collapsed": false
   },
   "outputs": [
    {
     "name": "stdout",
     "output_type": "stream",
     "text": [
      "A23G4HFD567\n"
     ]
    }
   ],
   "source": [
    "import re\n",
    " \n",
    "# 将匹配的数字乘于 2\n",
    "def double(matched):\n",
    "    value = int(matched.group('value'))\n",
    "    return str(value)\n",
    " \n",
    "s = 'A23G4HFD567'\n",
    "print(re.sub('(?=value\\d+)', double, s))\n",
    "print(re.sub('(?<value>\\d+)', double, s))"
   ]
  },
  {
   "cell_type": "code",
   "execution_count": 10,
   "metadata": {
    "collapsed": false
   },
   "outputs": [
    {
     "name": "stdout",
     "output_type": "stream",
     "text": [
      "A23  G4H FD 56  7\n",
      "A23  G4H  FD  56  7\n"
     ]
    }
   ],
   "source": [
    "s = 'A23  G4H FD 56  7'\n",
    "print s\n",
    "print re.sub(r'\\b \\b','  ', s)"
   ]
  },
  {
   "cell_type": "code",
   "execution_count": 271,
   "metadata": {
    "collapsed": false
   },
   "outputs": [
    {
     "data": {
      "text/plain": [
       "'John'"
      ]
     },
     "execution_count": 271,
     "metadata": {},
     "output_type": "execute_result"
    }
   ],
   "source": [
    "import re\n",
    "match = re.search('(?P<name>.*) (?P<phone>.*)', 'John 123456')\n",
    "match.group('name')"
   ]
  },
  {
   "cell_type": "code",
   "execution_count": 304,
   "metadata": {
    "collapsed": false
   },
   "outputs": [
    {
     "data": {
      "text/plain": [
       "()"
      ]
     },
     "execution_count": 304,
     "metadata": {},
     "output_type": "execute_result"
    }
   ],
   "source": [
    "m = re.match(\"(?:a)+\", \"aaaa\")\n",
    "m.groups()"
   ]
  },
  {
   "cell_type": "code",
   "execution_count": 295,
   "metadata": {
    "collapsed": false
   },
   "outputs": [
    {
     "data": {
      "text/plain": [
       "'the the'"
      ]
     },
     "execution_count": 295,
     "metadata": {},
     "output_type": "execute_result"
    }
   ],
   "source": [
    "p = re.compile(r'(\\b\\w+)\\s+\\1')\n",
    "p.search('Paris in the the spring').group()"
   ]
  },
  {
   "cell_type": "code",
   "execution_count": null,
   "metadata": {
    "collapsed": true
   },
   "outputs": [],
   "source": []
  }
 ],
 "metadata": {
  "anaconda-cloud": {},
  "kernelspec": {
   "display_name": "Python [conda root]",
   "language": "python",
   "name": "conda-root-py"
  },
  "language_info": {
   "codemirror_mode": {
    "name": "ipython",
    "version": 2
   },
   "file_extension": ".py",
   "mimetype": "text/x-python",
   "name": "python",
   "nbconvert_exporter": "python",
   "pygments_lexer": "ipython2",
   "version": "2.7.12"
  }
 },
 "nbformat": 4,
 "nbformat_minor": 1
}
