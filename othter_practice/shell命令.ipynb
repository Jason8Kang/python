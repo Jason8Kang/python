{
 "cells": [
  {
   "cell_type": "code",
   "execution_count": 5,
   "metadata": {
    "collapsed": false
   },
   "outputs": [
    {
     "data": {
      "application/json": {
       "cell": {
        "!": "OSMagics",
        "HTML": "Other",
        "SVG": "Other",
        "bash": "Other",
        "capture": "ExecutionMagics",
        "cmd": "Other",
        "debug": "ExecutionMagics",
        "file": "Other",
        "html": "DisplayMagics",
        "javascript": "DisplayMagics",
        "latex": "DisplayMagics",
        "perl": "Other",
        "prun": "ExecutionMagics",
        "pypy": "Other",
        "python": "Other",
        "python2": "Other",
        "python3": "Other",
        "ruby": "Other",
        "script": "ScriptMagics",
        "sh": "Other",
        "svg": "DisplayMagics",
        "sx": "OSMagics",
        "system": "OSMagics",
        "time": "ExecutionMagics",
        "timeit": "ExecutionMagics",
        "writefile": "OSMagics"
       },
       "line": {
        "alias": "OSMagics",
        "alias_magic": "BasicMagics",
        "autocall": "AutoMagics",
        "automagic": "AutoMagics",
        "autosave": "KernelMagics",
        "bookmark": "OSMagics",
        "cd": "OSMagics",
        "clear": "KernelMagics",
        "cls": "KernelMagics",
        "colors": "BasicMagics",
        "config": "ConfigMagics",
        "connect_info": "KernelMagics",
        "copy": "Other",
        "ddir": "Other",
        "debug": "ExecutionMagics",
        "dhist": "OSMagics",
        "dirs": "OSMagics",
        "doctest_mode": "BasicMagics",
        "echo": "Other",
        "ed": "Other",
        "edit": "KernelMagics",
        "env": "OSMagics",
        "gui": "BasicMagics",
        "hist": "Other",
        "history": "HistoryMagics",
        "install_default_config": "DeprecatedMagics",
        "install_ext": "ExtensionMagics",
        "install_profiles": "DeprecatedMagics",
        "killbgscripts": "ScriptMagics",
        "ldir": "Other",
        "less": "KernelMagics",
        "load": "CodeMagics",
        "load_ext": "ExtensionMagics",
        "loadpy": "CodeMagics",
        "logoff": "LoggingMagics",
        "logon": "LoggingMagics",
        "logstart": "LoggingMagics",
        "logstate": "LoggingMagics",
        "logstop": "LoggingMagics",
        "ls": "Other",
        "lsmagic": "BasicMagics",
        "macro": "ExecutionMagics",
        "magic": "BasicMagics",
        "matplotlib": "PylabMagics",
        "mkdir": "Other",
        "more": "KernelMagics",
        "notebook": "BasicMagics",
        "page": "BasicMagics",
        "pastebin": "CodeMagics",
        "pdb": "ExecutionMagics",
        "pdef": "NamespaceMagics",
        "pdoc": "NamespaceMagics",
        "pfile": "NamespaceMagics",
        "pinfo": "NamespaceMagics",
        "pinfo2": "NamespaceMagics",
        "popd": "OSMagics",
        "pprint": "BasicMagics",
        "precision": "BasicMagics",
        "profile": "BasicMagics",
        "prun": "ExecutionMagics",
        "psearch": "NamespaceMagics",
        "psource": "NamespaceMagics",
        "pushd": "OSMagics",
        "pwd": "OSMagics",
        "pycat": "OSMagics",
        "pylab": "PylabMagics",
        "qtconsole": "KernelMagics",
        "quickref": "BasicMagics",
        "recall": "HistoryMagics",
        "rehashx": "OSMagics",
        "reload_ext": "ExtensionMagics",
        "ren": "Other",
        "rep": "Other",
        "rerun": "HistoryMagics",
        "reset": "NamespaceMagics",
        "reset_selective": "NamespaceMagics",
        "rmdir": "Other",
        "run": "ExecutionMagics",
        "save": "CodeMagics",
        "sc": "OSMagics",
        "set_env": "OSMagics",
        "store": "StoreMagics",
        "sx": "OSMagics",
        "system": "OSMagics",
        "tb": "ExecutionMagics",
        "time": "ExecutionMagics",
        "timeit": "ExecutionMagics",
        "unalias": "OSMagics",
        "unload_ext": "ExtensionMagics",
        "who": "NamespaceMagics",
        "who_ls": "NamespaceMagics",
        "whos": "NamespaceMagics",
        "xdel": "NamespaceMagics",
        "xmode": "BasicMagics"
       }
      },
      "text/plain": [
       "Available line magics:\n",
       "%alias  %alias_magic  %autocall  %automagic  %autosave  %bookmark  %cd  %clear  %cls  %colors  %config  %connect_info  %copy  %ddir  %debug  %dhist  %dirs  %doctest_mode  %echo  %ed  %edit  %env  %gui  %hist  %history  %install_default_config  %install_ext  %install_profiles  %killbgscripts  %ldir  %less  %load  %load_ext  %loadpy  %logoff  %logon  %logstart  %logstate  %logstop  %ls  %lsmagic  %macro  %magic  %matplotlib  %mkdir  %more  %notebook  %page  %pastebin  %pdb  %pdef  %pdoc  %pfile  %pinfo  %pinfo2  %popd  %pprint  %precision  %profile  %prun  %psearch  %psource  %pushd  %pwd  %pycat  %pylab  %qtconsole  %quickref  %recall  %rehashx  %reload_ext  %ren  %rep  %rerun  %reset  %reset_selective  %rmdir  %run  %save  %sc  %set_env  %store  %sx  %system  %tb  %time  %timeit  %unalias  %unload_ext  %who  %who_ls  %whos  %xdel  %xmode\n",
       "\n",
       "Available cell magics:\n",
       "%%!  %%HTML  %%SVG  %%bash  %%capture  %%cmd  %%debug  %%file  %%html  %%javascript  %%latex  %%perl  %%prun  %%pypy  %%python  %%python2  %%python3  %%ruby  %%script  %%sh  %%svg  %%sx  %%system  %%time  %%timeit  %%writefile\n",
       "\n",
       "Automagic is ON, % prefix IS NOT needed for line magics."
      ]
     },
     "execution_count": 5,
     "metadata": {},
     "output_type": "execute_result"
    }
   ],
   "source": [
    "%lsmagic"
   ]
  },
  {
   "cell_type": "code",
   "execution_count": 7,
   "metadata": {
    "collapsed": false
   },
   "outputs": [
    {
     "name": "stdout",
     "output_type": "stream",
     "text": [
      "Variable   Type       Data/Info\n",
      "-------------------------------\n",
      "img        ndarray    244Lx328Lx4L: 320128 elems, type `uint8`, 320128 bytes (312 kb)\n",
      "io         module     <module 'skimage.io' from<...>\\skimage\\io\\__init__.py'>\n"
     ]
    }
   ],
   "source": [
    "%whos"
   ]
  },
  {
   "cell_type": "code",
   "execution_count": 9,
   "metadata": {
    "collapsed": false
   },
   "outputs": [],
   "source": [
    "%reset -f"
   ]
  },
  {
   "cell_type": "code",
   "execution_count": 10,
   "metadata": {
    "collapsed": false
   },
   "outputs": [
    {
     "name": "stdout",
     "output_type": "stream",
     "text": [
      "Interactive namespace is empty.\n"
     ]
    }
   ],
   "source": [
    "%whos"
   ]
  },
  {
   "cell_type": "code",
   "execution_count": 11,
   "metadata": {
    "collapsed": false
   },
   "outputs": [
    {
     "data": {
      "text/plain": [
       "u'C:\\\\Users\\\\jason\\\\Documents\\\\Python Scripts'"
      ]
     },
     "execution_count": 11,
     "metadata": {},
     "output_type": "execute_result"
    }
   ],
   "source": [
    "%pwd"
   ]
  },
  {
   "cell_type": "code",
   "execution_count": 12,
   "metadata": {
    "collapsed": false
   },
   "outputs": [
    {
     "name": "stdout",
     "output_type": "stream",
     "text": [
      " 驱动器 C 中的卷没有标签。\n",
      " 卷的序列号是 EC2D-E463\n",
      "\n",
      " C:\\Users\\jason\\Documents\\Python Scripts 的目录\n",
      "\n",
      "2016/11/03  21:46    <DIR>          .\n",
      "2016/11/03  21:46    <DIR>          ..\n",
      "2016/11/03  20:58    <DIR>          .ipynb_checkpoints\n",
      "2016/11/03  21:46             7,202 practice-11-3.ipynb\n",
      "2016/10/31  15:16               447 test.py\n",
      "               2 个文件          7,649 字节\n",
      "               3 个目录 67,484,254,208 可用字节\n"
     ]
    }
   ],
   "source": [
    "%ls"
   ]
  },
  {
   "cell_type": "code",
   "execution_count": 13,
   "metadata": {
    "collapsed": false
   },
   "outputs": [
    {
     "name": "stdout",
     "output_type": "stream",
     "text": [
      "1\n"
     ]
    }
   ],
   "source": [
    "%run test.py"
   ]
  },
  {
   "cell_type": "code",
   "execution_count": 14,
   "metadata": {
    "collapsed": true
   },
   "outputs": [],
   "source": [
    "import os\n",
    "os.remove('test.py')"
   ]
  },
  {
   "cell_type": "code",
   "execution_count": 15,
   "metadata": {
    "collapsed": false
   },
   "outputs": [
    {
     "name": "stdout",
     "output_type": "stream",
     "text": [
      " 驱动器 C 中的卷没有标签。\n",
      " 卷的序列号是 EC2D-E463\n",
      "\n",
      " C:\\Users\\jason\\Documents\\Python Scripts 的目录\n",
      "\n",
      "2016/11/03  21:49    <DIR>          .\n",
      "2016/11/03  21:49    <DIR>          ..\n",
      "2016/11/03  20:58    <DIR>          .ipynb_checkpoints\n",
      "2016/11/03  21:48             8,312 practice-11-3.ipynb\n",
      "               1 个文件          8,312 字节\n",
      "               3 个目录 67,519,291,392 可用字节\n"
     ]
    }
   ],
   "source": [
    "%ls"
   ]
  },
  {
   "cell_type": "markdown",
   "metadata": {
    "collapsed": false
   },
   "source": [
    "%cd .."
   ]
  },
  {
   "cell_type": "code",
   "execution_count": 1,
   "metadata": {
    "collapsed": true
   },
   "outputs": [],
   "source": [
    "import pandas as pd\n",
    "pd.read_csv(index.zero)"
   ]
  },
  {
   "cell_type": "code",
   "execution_count": 19,
   "metadata": {
    "collapsed": false
   },
   "outputs": [
    {
     "name": "stdout",
     "output_type": "stream",
     "text": [
      "Help on built-in function sum in module __builtin__:\n",
      "\n",
      "sum(...)\n",
      "    sum(sequence[, start]) -> value\n",
      "    \n",
      "    Return the sum of a sequence of numbers (NOT strings) plus the value\n",
      "    of parameter 'start' (which defaults to 0).  When the sequence is\n",
      "    empty, return start.\n",
      "\n"
     ]
    }
   ],
   "source": [
    "help(sum)"
   ]
  },
  {
   "cell_type": "code",
   "execution_count": 25,
   "metadata": {
    "collapsed": false
   },
   "outputs": [
    {
     "name": "stdout",
     "output_type": "stream",
     "text": [
      "Using matplotlib backend: Qt4Agg\n",
      "Populating the interactive namespace from numpy and matplotlib\n",
      "Help on function sort in module numpy.core.fromnumeric:\n",
      "\n",
      "sort(a, axis=-1, kind='quicksort', order=None)\n",
      "    Return a sorted copy of an array.\n",
      "    \n",
      "    Parameters\n",
      "    ----------\n",
      "    a : array_like\n",
      "        Array to be sorted.\n",
      "    axis : int or None, optional\n",
      "        Axis along which to sort. If None, the array is flattened before\n",
      "        sorting. The default is -1, which sorts along the last axis.\n",
      "    kind : {'quicksort', 'mergesort', 'heapsort'}, optional\n",
      "        Sorting algorithm. Default is 'quicksort'.\n",
      "    order : str or list of str, optional\n",
      "        When `a` is an array with fields defined, this argument specifies\n",
      "        which fields to compare first, second, etc.  A single field can\n",
      "        be specified as a string, and not all fields need be specified,\n",
      "        but unspecified fields will still be used, in the order in which\n",
      "        they come up in the dtype, to break ties.\n",
      "    \n",
      "    Returns\n",
      "    -------\n",
      "    sorted_array : ndarray\n",
      "        Array of the same type and shape as `a`.\n",
      "    \n",
      "    See Also\n",
      "    --------\n",
      "    ndarray.sort : Method to sort an array in-place.\n",
      "    argsort : Indirect sort.\n",
      "    lexsort : Indirect stable sort on multiple keys.\n",
      "    searchsorted : Find elements in a sorted array.\n",
      "    partition : Partial sort.\n",
      "    \n",
      "    Notes\n",
      "    -----\n",
      "    The various sorting algorithms are characterized by their average speed,\n",
      "    worst case performance, work space size, and whether they are stable. A\n",
      "    stable sort keeps items with the same key in the same relative\n",
      "    order. The three available algorithms have the following\n",
      "    properties:\n",
      "    \n",
      "    =========== ======= ============= ============ =======\n",
      "       kind      speed   worst case    work space  stable\n",
      "    =========== ======= ============= ============ =======\n",
      "    'quicksort'    1     O(n^2)            0          no\n",
      "    'mergesort'    2     O(n*log(n))      ~n/2        yes\n",
      "    'heapsort'     3     O(n*log(n))       0          no\n",
      "    =========== ======= ============= ============ =======\n",
      "    \n",
      "    All the sort algorithms make temporary copies of the data when\n",
      "    sorting along any but the last axis.  Consequently, sorting along\n",
      "    the last axis is faster and uses less space than sorting along\n",
      "    any other axis.\n",
      "    \n",
      "    The sort order for complex numbers is lexicographic. If both the real\n",
      "    and imaginary parts are non-nan then the order is determined by the\n",
      "    real parts except when they are equal, in which case the order is\n",
      "    determined by the imaginary parts.\n",
      "    \n",
      "    Previous to numpy 1.4.0 sorting real and complex arrays containing nan\n",
      "    values led to undefined behaviour. In numpy versions >= 1.4.0 nan\n",
      "    values are sorted to the end. The extended sort order is:\n",
      "    \n",
      "      * Real: [R, nan]\n",
      "      * Complex: [R + Rj, R + nanj, nan + Rj, nan + nanj]\n",
      "    \n",
      "    where R is a non-nan real value. Complex values with the same nan\n",
      "    placements are sorted according to the non-nan part if it exists.\n",
      "    Non-nan values are sorted as before.\n",
      "    \n",
      "    Examples\n",
      "    --------\n",
      "    >>> a = np.array([[1,4],[3,1]])\n",
      "    >>> np.sort(a)                # sort along the last axis\n",
      "    array([[1, 4],\n",
      "           [1, 3]])\n",
      "    >>> np.sort(a, axis=None)     # sort the flattened array\n",
      "    array([1, 1, 3, 4])\n",
      "    >>> np.sort(a, axis=0)        # sort along the first axis\n",
      "    array([[1, 1],\n",
      "           [3, 4]])\n",
      "    \n",
      "    Use the `order` keyword to specify a field to use when sorting a\n",
      "    structured array:\n",
      "    \n",
      "    >>> dtype = [('name', 'S10'), ('height', float), ('age', int)]\n",
      "    >>> values = [('Arthur', 1.8, 41), ('Lancelot', 1.9, 38),\n",
      "    ...           ('Galahad', 1.7, 38)]\n",
      "    >>> a = np.array(values, dtype=dtype)       # create a structured array\n",
      "    >>> np.sort(a, order='height')                        # doctest: +SKIP\n",
      "    array([('Galahad', 1.7, 38), ('Arthur', 1.8, 41),\n",
      "           ('Lancelot', 1.8999999999999999, 38)],\n",
      "          dtype=[('name', '|S10'), ('height', '<f8'), ('age', '<i4')])\n",
      "    \n",
      "    Sort by age, then height if ages are equal:\n",
      "    \n",
      "    >>> np.sort(a, order=['age', 'height'])               # doctest: +SKIP\n",
      "    array([('Galahad', 1.7, 38), ('Lancelot', 1.8999999999999999, 38),\n",
      "           ('Arthur', 1.8, 41)],\n",
      "          dtype=[('name', '|S10'), ('height', '<f8'), ('age', '<i4')])\n",
      "\n"
     ]
    }
   ],
   "source": [
    "%pylab\n",
    "#sort??\n",
    "help(sort)"
   ]
  },
  {
   "cell_type": "code",
   "execution_count": 26,
   "metadata": {
    "collapsed": false
   },
   "outputs": [
    {
     "name": "stdout",
     "output_type": "stream",
     "text": [
      "\n",
      "正在 Ping baidu.com [220.181.57.217] 具有 32 字节的数据:\n",
      "来自 220.181.57.217 的回复: 字节=32 时间=124ms TTL=49\n",
      "来自 220.181.57.217 的回复: 字节=32 时间=130ms TTL=49\n",
      "来自 220.181.57.217 的回复: 字节=32 时间=127ms TTL=49\n",
      "来自 220.181.57.217 的回复: 字节=32 时间=124ms TTL=49\n",
      "\n",
      "220.181.57.217 的 Ping 统计信息:\n",
      "    数据包: 已发送 = 4，已接收 = 4，丢失 = 0 (0% 丢失)，\n",
      "往返行程的估计时间(以毫秒为单位):\n",
      "    最短 = 124ms，最长 = 130ms，平均 = 126ms\n"
     ]
    }
   ],
   "source": [
    "!ping baidu.com"
   ]
  },
  {
   "cell_type": "code",
   "execution_count": 27,
   "metadata": {
    "collapsed": false,
    "scrolled": true
   },
   "outputs": [
    {
     "name": "stdout",
     "output_type": "stream",
     "text": [
      "# packages in environment at C:\\Users\\jason\\Anaconda2:\n",
      "#\n",
      "_license                  1.1                      py27_1    defaults\n",
      "alabaster                 0.7.6                    py27_0    defaults\n",
      "anaconda                  2.4.1               np110py27_0    defaults\n",
      "anaconda-client           1.2.1                    py27_0    defaults\n",
      "argcomplete               1.0.0                    py27_1    defaults\n",
      "astropy                   1.0.6               np110py27_0    defaults\n",
      "babel                     2.1.1                    py27_0    defaults\n",
      "backports-abc             0.4                       <pip>\n",
      "backports.ssl-match-hostname 3.4.0.2                   <pip>\n",
      "backports_abc             0.4                      py27_0    defaults\n",
      "beautifulsoup4            4.4.1                    py27_0    defaults\n",
      "bitarray                  0.8.1                    py27_1    defaults\n",
      "blaze                     0.8.3                     <pip>\n",
      "blaze-core                0.8.3                    py27_0    defaults\n",
      "bokeh                     0.10.0                   py27_0    defaults\n",
      "boto                      2.38.0                   py27_0    defaults\n",
      "bottleneck                1.0.0               np110py27_0    defaults\n",
      "bzip2                     1.0.6                     vc9_2  [vc9]  defaults\n",
      "cdecimal                  2.3                      py27_1    defaults\n",
      "cffi                      1.2.1                    py27_0    defaults\n",
      "clyent                    1.2.0                    py27_0    defaults\n",
      "colorama                  0.3.3                    py27_0    defaults\n",
      "comtypes                  1.1.2                    py27_0    defaults\n",
      "conda                     3.18.8                   py27_0    defaults\n",
      "conda-build               1.18.2                   py27_0    defaults\n",
      "conda-env                 2.4.5                    py27_0    defaults\n",
      "configobj                 5.0.6                    py27_0    defaults\n",
      "console_shortcut          0.1.1                    py27_1    defaults\n",
      "cryptography              1.0.2                    py27_0    defaults\n",
      "curl                      7.45.0                    vc9_0  [vc9]  defaults\n",
      "cycler                    0.9.0                    py27_0    defaults\n",
      "cython                    0.23.4                   py27_0    defaults\n",
      "cytoolz                   0.7.4                    py27_0    defaults\n",
      "datashape                 0.4.7               np110py27_1    defaults\n",
      "decorator                 4.0.4                    py27_0    defaults\n",
      "docutils                  0.12                     py27_1    defaults\n",
      "enum34                    1.0.4                    py27_0    defaults\n",
      "fastcache                 1.0.2                    py27_0    defaults\n",
      "flask                     0.10.1                   py27_1    defaults\n",
      "freetype                  2.5.5                     vc9_0  [vc9]  defaults\n",
      "funcsigs                  0.4                      py27_0    defaults\n",
      "gevent                    1.0.1                    py27_0    defaults\n",
      "gevent-websocket          0.9.3                    py27_0    defaults\n",
      "greenlet                  0.4.9                    py27_0    defaults\n",
      "grin                      1.2.1                    py27_2    defaults\n",
      "h5py                      2.5.0               np110py27_4    defaults\n",
      "hdf5                      1.8.15.1                  vc9_4  [vc9]  defaults\n",
      "idna                      2.0                      py27_0    defaults\n",
      "ipaddress                 1.0.14                   py27_0    defaults\n",
      "ipykernel                 4.1.1                    py27_0    defaults\n",
      "ipython                   4.0.1                    py27_0    defaults\n",
      "ipython-genutils          0.1.0                     <pip>\n",
      "ipython-notebook          4.0.4                    py27_3    defaults\n",
      "ipython-qtconsole         4.0.1                    py27_4    defaults\n",
      "ipython_genutils          0.1.0                    py27_0    defaults\n",
      "ipywidgets                4.1.0                    py27_0    defaults\n",
      "itsdangerous              0.24                     py27_0    defaults\n",
      "jdcal                     1.0                      py27_0    defaults\n",
      "jedi                      0.9.0                    py27_0    defaults\n",
      "jinja2                    2.8                      py27_0    defaults\n",
      "jpeg                      8d                        vc9_0  [vc9]  defaults\n",
      "jsonschema                2.4.0                    py27_0    defaults\n",
      "jupyter                   1.0.0                    py27_1    defaults\n",
      "jupyter-client            4.1.1                     <pip>\n",
      "jupyter-console           4.0.3                     <pip>\n",
      "jupyter-core              4.0.6                     <pip>\n",
      "jupyter_client            4.1.1                    py27_0    defaults\n",
      "jupyter_console           4.0.3                    py27_0    defaults\n",
      "jupyter_core              4.0.6                    py27_0    defaults\n",
      "launcher                  1.0.0                         4    defaults\n",
      "libpng                    1.6.17                    vc9_1  [vc9]  defaults\n",
      "libsodium                 1.0.3                         0    defaults\n",
      "libtiff                   4.0.6                     vc9_1  [vc9]  defaults\n",
      "llvmlite                  0.8.0                    py27_0    defaults\n",
      "lxml                      3.4.4                    py27_0    defaults\n",
      "markupsafe                0.23                     py27_0    defaults\n",
      "matplotlib                1.5.0               np110py27_0    defaults\n",
      "menuinst                  1.3.1                    py27_0    defaults\n",
      "mistune                   0.7.1                    py27_0    defaults\n",
      "msvc_runtime              1.0.1                     vc9_0  [vc9]  defaults\n",
      "multipledispatch          0.4.8                    py27_0    defaults\n",
      "nbconvert                 4.0.0                    py27_0    defaults\n",
      "nbformat                  4.0.1                    py27_0    defaults\n",
      "networkx                  1.10                     py27_0    defaults\n",
      "nltk                      3.1                      py27_0    defaults\n",
      "node-webkit               0.10.1                        0    defaults\n",
      "nose                      1.3.7                    py27_0    defaults\n",
      "notebook                  4.0.6                    py27_0    defaults\n",
      "numba                     0.22.1              np110py27_0    defaults\n",
      "numexpr                   2.4.4               np110py27_0    defaults\n",
      "numpy                     1.10.1                   py27_0    defaults\n",
      "odo                       0.3.4                    py27_0    defaults\n",
      "openpyxl                  2.2.6                    py27_0    defaults\n",
      "openssl                   1.0.2d                    vc9_0  [vc9]  defaults\n",
      "pandas                    0.17.1              np110py27_0    defaults\n",
      "path.py                   8.1.2                    py27_1    defaults\n",
      "patsy                     0.4.0               np110py27_0    defaults\n",
      "pep8                      1.6.2                    py27_0    defaults\n",
      "pickleshare               0.5                      py27_0    defaults\n",
      "pillow                    3.0.0                    py27_1    defaults\n",
      "pip                       7.1.2                    py27_0    defaults\n",
      "ply                       3.8                      py27_0    defaults\n",
      "psutil                    3.3.0                    py27_0    defaults\n",
      "py                        1.4.30                   py27_0    defaults\n",
      "pyasn1                    0.1.9                    py27_0    defaults\n",
      "pycosat                   0.6.1                    py27_0    defaults\n",
      "pycparser                 2.14                     py27_0    defaults\n",
      "pycrypto                  2.6.1                    py27_3    defaults\n",
      "pycurl                    7.19.5.1                 py27_1    defaults\n",
      "pyflakes                  1.0.0                    py27_0    defaults\n",
      "pygments                  2.0.2                    py27_0    defaults\n",
      "pyopenssl                 0.15.1                   py27_1    defaults\n",
      "pyparsing                 2.0.3                    py27_0    defaults\n",
      "pyqt                      4.11.4                   py27_4    defaults\n",
      "pyreadline                2.1                      py27_0    defaults\n",
      "pytables                  3.2.2               np110py27_1    defaults\n",
      "pytest                    2.8.1                    py27_0    defaults\n",
      "python                    2.7.11                        0    defaults\n",
      "python-dateutil           2.4.2                    py27_0    defaults\n",
      "pytz                      2015.7                   py27_0    defaults\n",
      "pywin32                   219                      py27_1    defaults\n",
      "pyyaml                    3.11                     py27_2    defaults\n",
      "pyzmq                     14.7.0                   py27_1    defaults\n",
      "qt                        4.8.7                     vc9_5  [vc9]  defaults\n",
      "qtconsole                 4.1.1                    py27_0    defaults\n",
      "requests                  2.8.1                    py27_0    defaults\n",
      "rope                      0.9.4                    py27_1    defaults\n",
      "scikit-image              0.11.3              np110py27_0    defaults\n",
      "scikit-learn              0.17                np110py27_1    defaults\n",
      "scipy                     0.16.0              np110py27_0    defaults\n",
      "setuptools                18.5                     py27_0    defaults\n",
      "simplegeneric             0.8.1                    py27_0    defaults\n",
      "singledispatch            3.4.0.3                  py27_0    defaults\n",
      "sip                       4.16.9                   py27_2    defaults\n",
      "six                       1.10.0                   py27_0    defaults\n",
      "snowballstemmer           1.2.0                    py27_0    defaults\n",
      "sockjs-tornado            1.0.1                    py27_0    defaults\n",
      "sphinx                    1.3.1                    py27_0    defaults\n",
      "sphinx-rtd-theme          0.1.7                     <pip>\n",
      "sphinx_rtd_theme          0.1.7                    py27_0    defaults\n",
      "spyder                    2.3.8                    py27_0    defaults\n",
      "spyder-app                2.3.8                    py27_0    defaults\n",
      "sqlalchemy                1.0.9                    py27_0    defaults\n",
      "ssl_match_hostname        3.4.0.2                  py27_0    defaults\n",
      "statsmodels               0.6.1               np110py27_0    defaults\n",
      "sympy                     0.7.6.1                  py27_0    defaults\n",
      "tables                    3.2.2                     <pip>\n",
      "tk                        8.5.18                    vc9_0  [vc9]  defaults\n",
      "toolz                     0.7.4                    py27_0    defaults\n",
      "tornado                   4.3                      py27_0    defaults\n",
      "traitlets                 4.0.0                    py27_0    defaults\n",
      "ujson                     1.33                     py27_0    defaults\n",
      "unicodecsv                0.14.1                   py27_0    defaults\n",
      "werkzeug                  0.11.2                   py27_0    defaults\n",
      "wheel                     0.26.0                   py27_1    defaults\n",
      "xlrd                      0.9.4                    py27_0    defaults\n",
      "xlsxwriter                0.7.7                    py27_0    defaults\n",
      "xlwings                   0.5.0                    py27_0    defaults\n",
      "xlwt                      1.0.0                    py27_0    defaults\n",
      "zeromq                    4.1.3                     vc9_1  [vc9]  defaults\n",
      "zlib                      1.2.8                     vc9_2  [vc9]  defaults\n"
     ]
    }
   ],
   "source": [
    "!conda list"
   ]
  },
  {
   "cell_type": "code",
   "execution_count": 28,
   "metadata": {
    "collapsed": false
   },
   "outputs": [
    {
     "name": "stdout",
     "output_type": "stream",
     "text": [
      "Current conda install:\n",
      "\n",
      "             platform : win-64\n",
      "        conda version : 3.18.8\n",
      "  conda-build version : 1.18.2\n",
      "       python version : 2.7.11.final.0\n",
      "     requests version : 2.8.1\n",
      "     root environment : C:\\Users\\jason\\Anaconda2  (writable)\n",
      "  default environment : C:\\Users\\jason\\Anaconda2\n",
      "     envs directories : C:\\Users\\jason\\Anaconda2\\envs\n",
      "        package cache : C:\\Users\\jason\\Anaconda2\\pkgs\n",
      "         channel URLs : https://repo.continuum.io/pkgs/free/win-64/\n",
      "                        https://repo.continuum.io/pkgs/free/noarch/\n",
      "                        https://repo.continuum.io/pkgs/pro/win-64/\n",
      "                        https://repo.continuum.io/pkgs/pro/noarch/\n",
      "          config file : None\n",
      "    is foreign system : False\n",
      "\n"
     ]
    }
   ],
   "source": [
    "!conda info"
   ]
  },
  {
   "cell_type": "code",
   "execution_count": null,
   "metadata": {
    "collapsed": true
   },
   "outputs": [],
   "source": [
    "conda create -n py34 python=3.4"
   ]
  },
  {
   "cell_type": "code",
   "execution_count": 34,
   "metadata": {
    "collapsed": false
   },
   "outputs": [
    {
     "data": {
      "text/plain": [
       "'hello'"
      ]
     },
     "execution_count": 34,
     "metadata": {},
     "output_type": "execute_result"
    }
   ],
   "source": [
    "s='hello world'\n",
    "s[0:5]"
   ]
  },
  {
   "cell_type": "markdown",
   "metadata": {},
   "source": [
    "此处不算代码，仅作为说明处"
   ]
  },
  {
   "cell_type": "code",
   "execution_count": 35,
   "metadata": {
    "collapsed": false
   },
   "outputs": [
    {
     "data": {
      "text/plain": [
       "['hello', 'world']"
      ]
     },
     "execution_count": 35,
     "metadata": {},
     "output_type": "execute_result"
    }
   ],
   "source": [
    "s.split()"
   ]
  },
  {
   "cell_type": "code",
   "execution_count": 37,
   "metadata": {
    "collapsed": false
   },
   "outputs": [
    {
     "data": {
      "text/plain": [
       "11"
      ]
     },
     "execution_count": 37,
     "metadata": {},
     "output_type": "execute_result"
    }
   ],
   "source": [
    "len(s)"
   ]
  },
  {
   "cell_type": "code",
   "execution_count": 38,
   "metadata": {
    "collapsed": false
   },
   "outputs": [
    {
     "data": {
      "text/plain": [
       "[1, 2.0, 'hello', 6.0, 1, 2.0, 'hello', 6.0]"
      ]
     },
     "execution_count": 38,
     "metadata": {},
     "output_type": "execute_result"
    }
   ],
   "source": [
    "a = [1, 2.0, 'hello', 5 + 1.0]\n",
    "a*2\n",
    "a+a"
   ]
  },
  {
   "cell_type": "code",
   "execution_count": 39,
   "metadata": {
    "collapsed": false
   },
   "outputs": [
    {
     "data": {
      "text/plain": [
       "4"
      ]
     },
     "execution_count": 39,
     "metadata": {},
     "output_type": "execute_result"
    }
   ],
   "source": [
    "len(a)"
   ]
  },
  {
   "cell_type": "code",
   "execution_count": 40,
   "metadata": {
    "collapsed": false
   },
   "outputs": [
    {
     "data": {
      "text/plain": [
       "{2, 3, 4}"
      ]
     },
     "execution_count": 40,
     "metadata": {},
     "output_type": "execute_result"
    }
   ],
   "source": [
    "s={2,3,4,3,2}\n",
    "s"
   ]
  },
  {
   "cell_type": "markdown",
   "metadata": {},
   "source": [
    "len(s)\n"
   ]
  },
  {
   "cell_type": "code",
   "execution_count": 42,
   "metadata": {
    "collapsed": false
   },
   "outputs": [
    {
     "data": {
      "text/plain": [
       "{1, 2, 3, 4}"
      ]
     },
     "execution_count": 42,
     "metadata": {},
     "output_type": "execute_result"
    }
   ],
   "source": [
    "s.add(1)\n",
    "s"
   ]
  },
  {
   "cell_type": "code",
   "execution_count": 58,
   "metadata": {
    "collapsed": false
   },
   "outputs": [
    {
     "name": "stdout",
     "output_type": "stream",
     "text": [
      "set([4, 5])\n",
      "set([1, 2, 3, 4, 5, 6, 7])\n",
      "set([1, 2, 3])\n",
      "set([1, 2, 3, 6, 7])\n"
     ]
    }
   ],
   "source": [
    "print {1,2,3,4,5} & {4,5,6,7}\n",
    "print {1,2,3,4,5} | {4,5,6,7}\n",
    "print {1,2,3,4,5} - {4,5,6,7}\n",
    "print {1,2,3,4,5} ^ {4,5,6,7}"
   ]
  },
  {
   "cell_type": "code",
   "execution_count": 60,
   "metadata": {
    "collapsed": false
   },
   "outputs": [
    {
     "data": {
      "text/plain": [
       "5"
      ]
     },
     "execution_count": 60,
     "metadata": {},
     "output_type": "execute_result"
    }
   ],
   "source": [
    "d = {'dogs':5, 'cats':4}\n",
    "d[\"dogs\"]"
   ]
  },
  {
   "cell_type": "code",
   "execution_count": 63,
   "metadata": {
    "collapsed": false
   },
   "outputs": [
    {
     "data": {
      "text/plain": [
       "['cats', 'dogs', 'dog']"
      ]
     },
     "execution_count": 63,
     "metadata": {},
     "output_type": "execute_result"
    }
   ],
   "source": [
    "d[\"dogs\"]=\"dogs\"\n",
    "d[\"dog\"]=\"dog\"\n",
    "d"
   ]
  },
  {
   "cell_type": "code",
   "execution_count": 64,
   "metadata": {
    "collapsed": false
   },
   "outputs": [
    {
     "data": {
      "text/plain": [
       "['cats', 'dogs', 'dog']"
      ]
     },
     "execution_count": 64,
     "metadata": {},
     "output_type": "execute_result"
    }
   ],
   "source": [
    "d.keys()"
   ]
  },
  {
   "cell_type": "code",
   "execution_count": 65,
   "metadata": {
    "collapsed": false
   },
   "outputs": [
    {
     "data": {
      "text/plain": [
       "[4, 'dogs', 'dog']"
      ]
     },
     "execution_count": 65,
     "metadata": {},
     "output_type": "execute_result"
    }
   ],
   "source": [
    "d.values()"
   ]
  },
  {
   "cell_type": "code",
   "execution_count": 66,
   "metadata": {
    "collapsed": false
   },
   "outputs": [
    {
     "data": {
      "text/plain": [
       "[('cats', 4), ('dogs', 'dogs'), ('dog', 'dog')]"
      ]
     },
     "execution_count": 66,
     "metadata": {},
     "output_type": "execute_result"
    }
   ],
   "source": [
    "d.items()"
   ]
  },
  {
   "cell_type": "code",
   "execution_count": 68,
   "metadata": {
    "collapsed": false
   },
   "outputs": [
    {
     "data": {
      "text/plain": [
       "array([ 2,  4,  8, 10])"
      ]
     },
     "execution_count": 68,
     "metadata": {},
     "output_type": "execute_result"
    }
   ],
   "source": [
    "array([1,2,4,5])*2"
   ]
  },
  {
   "cell_type": "code",
   "execution_count": 77,
   "metadata": {
    "collapsed": false
   },
   "outputs": [
    {
     "data": {
      "text/plain": [
       "[<matplotlib.lines.Line2D at 0x172f1a58>]"
      ]
     },
     "execution_count": 77,
     "metadata": {},
     "output_type": "execute_result"
    },
    {
     "data": {
      "image/png": "[encoded data removed]",
      "text/plain": [
       "<matplotlib.figure.Figure at 0x171be080>"
      ]
     },
     "metadata": {},
     "output_type": "display_data"
    }
   ],
   "source": [
    "%matplotlib inline\n",
    "from matplotlib.pyplot import plot\n",
    "a=array([1,2,4,5])\n",
    "plot(a,a**2)"
   ]
  },
  {
   "cell_type": "code",
   "execution_count": 78,
   "metadata": {
    "collapsed": false
   },
   "outputs": [
    {
     "data": {
      "text/plain": [
       "['1', '2', '3', '4', '5']"
      ]
     },
     "execution_count": 78,
     "metadata": {},
     "output_type": "execute_result"
    }
   ],
   "source": [
    "line = '1 2 3 4 5'\n",
    "fields = line.split()\n",
    "fields"
   ]
  },
  {
   "cell_type": "code",
   "execution_count": 79,
   "metadata": {
    "collapsed": false
   },
   "outputs": [
    {
     "data": {
      "text/plain": [
       "15"
      ]
     },
     "execution_count": 79,
     "metadata": {},
     "output_type": "execute_result"
    }
   ],
   "source": [
    "total = 0\n",
    "for field in fields:\n",
    "    total += int(field)\n",
    "total"
   ]
  },
  {
   "cell_type": "code",
   "execution_count": 81,
   "metadata": {
    "collapsed": false
   },
   "outputs": [
    {
     "name": "stdout",
     "output_type": "stream",
     "text": [
      "[1, 2, 3, 4, 5]\n"
     ]
    },
    {
     "data": {
      "text/plain": [
       "15"
      ]
     },
     "execution_count": 81,
     "metadata": {},
     "output_type": "execute_result"
    }
   ],
   "source": [
    "numbers = [int(field) for field in fields]\n",
    "print numbers\n",
    "sum(numbers)"
   ]
  },
  {
   "cell_type": "code",
   "execution_count": 83,
   "metadata": {
    "collapsed": false
   },
   "outputs": [
    {
     "name": "stdout",
     "output_type": "stream",
     "text": [
      " 驱动器 C 中的卷没有标签。\n",
      " 卷的序列号是 EC2D-E463\n",
      "\n",
      " C:\\Users\\jason\\Documents 的目录\n",
      "\n",
      "2016/11/03  15:06    <DIR>          .\n",
      "2016/11/03  15:06    <DIR>          ..\n",
      "2016/10/31  15:15    <DIR>          .ipynb_checkpoints\n",
      "2016/11/03  20:47    <DIR>          GitHub\n",
      "2016/10/14  18:12    <DIR>          My Knowledge\n",
      "2016/10/20  17:54    <DIR>          NetSarang\n",
      "2016/11/03  22:34    <DIR>          Python Scripts\n",
      "2016/10/10  23:15    <DIR>          Tencent Files\n",
      "2016/10/13  16:01    <DIR>          tex\n",
      "2016/11/03  20:06    <DIR>          WeChat Files\n",
      "2016/10/15  22:37    <DIR>          自定义 Office 模板\n",
      "               0 个文件              0 字节\n",
      "              11 个目录 68,566,335,488 可用字节\n"
     ]
    }
   ],
   "source": [
    "%ls"
   ]
  },
  {
   "cell_type": "code",
   "execution_count": 86,
   "metadata": {
    "collapsed": false
   },
   "outputs": [
    {
     "data": {
      "text/plain": [
       "u'C:\\\\Users\\\\jason\\\\Documents'"
      ]
     },
     "execution_count": 86,
     "metadata": {},
     "output_type": "execute_result"
    }
   ],
   "source": [
    "%pwd"
   ]
  },
  {
   "cell_type": "code",
   "execution_count": 87,
   "metadata": {
    "collapsed": false
   },
   "outputs": [
    {
     "data": {
      "text/plain": [
       "u'C:\\\\Users\\\\jason\\\\Documents'"
      ]
     },
     "execution_count": 87,
     "metadata": {},
     "output_type": "execute_result"
    }
   ],
   "source": [
    "pwd"
   ]
  },
  {
   "cell_type": "code",
   "execution_count": 91,
   "metadata": {
    "collapsed": false
   },
   "outputs": [
    {
     "name": "stdout",
     "output_type": "stream",
     "text": [
      "C:\\Users\\jason\\Documents\\Python Scripts\n"
     ]
    }
   ],
   "source": [
    "cd Python Scripts"
   ]
  },
  {
   "cell_type": "code",
   "execution_count": 92,
   "metadata": {
    "collapsed": false
   },
   "outputs": [
    {
     "name": "stdout",
     "output_type": "stream",
     "text": [
      " 驱动器 C 中的卷没有标签。\n",
      " 卷的序列号是 EC2D-E463\n",
      "\n",
      " C:\\Users\\jason\\Documents\\Python Scripts 的目录\n",
      "\n",
      "2016/11/03  22:34    <DIR>          .\n",
      "2016/11/03  22:34    <DIR>          ..\n",
      "2016/11/03  20:58    <DIR>          .ipynb_checkpoints\n",
      "2016/11/03  22:34            49,216 practice-11-3.ipynb\n",
      "2016/11/03  21:53                12 test.py\n",
      "               2 个文件         49,228 字节\n",
      "               3 个目录 68,561,580,032 可用字节\n"
     ]
    }
   ],
   "source": [
    "ls"
   ]
  },
  {
   "cell_type": "code",
   "execution_count": 93,
   "metadata": {
    "collapsed": true
   },
   "outputs": [],
   "source": [
    "f = open('test.py', 'w')\n",
    "f.write('1 2 3 4\\n')\n",
    "f.write('2 3 4 5\\n')\n",
    "f.close()"
   ]
  },
  {
   "cell_type": "code",
   "execution_count": 94,
   "metadata": {
    "collapsed": false
   },
   "outputs": [
    {
     "data": {
      "text/plain": [
       "[[1, 2, 3, 4], [2, 3, 4, 5]]"
      ]
     },
     "execution_count": 94,
     "metadata": {},
     "output_type": "execute_result"
    }
   ],
   "source": [
    "f = open('test.py')\n",
    "data = []\n",
    "for line in f:\n",
    "    data.append([int(field) for field in line.split()])\n",
    "f.close()\n",
    "data"
   ]
  },
  {
   "cell_type": "code",
   "execution_count": 95,
   "metadata": {
    "collapsed": false
   },
   "outputs": [
    {
     "name": "stdout",
     "output_type": "stream",
     "text": [
      "[1, 2, 3, 4]\n",
      "[2, 3, 4, 5]\n"
     ]
    }
   ],
   "source": [
    "for row in data:\n",
    "    print row"
   ]
  },
  {
   "cell_type": "code",
   "execution_count": 96,
   "metadata": {
    "collapsed": true
   },
   "outputs": [],
   "source": [
    "os.remove('test.py')"
   ]
  },
  {
   "cell_type": "code",
   "execution_count": 97,
   "metadata": {
    "collapsed": false
   },
   "outputs": [
    {
     "name": "stdout",
     "output_type": "stream",
     "text": [
      " 驱动器 C 中的卷没有标签。\n",
      " 卷的序列号是 EC2D-E463\n",
      "\n",
      " C:\\Users\\jason\\Documents\\Python Scripts 的目录\n",
      "\n",
      "2016/11/03  22:39    <DIR>          .\n",
      "2016/11/03  22:39    <DIR>          ..\n",
      "2016/11/03  20:58    <DIR>          .ipynb_checkpoints\n",
      "2016/11/03  22:38            51,830 practice-11-3.ipynb\n",
      "               1 个文件         51,830 字节\n",
      "               3 个目录 68,548,313,088 可用字节\n"
     ]
    }
   ],
   "source": [
    "ls"
   ]
  },
  {
   "cell_type": "code",
   "execution_count": 98,
   "metadata": {
    "collapsed": false
   },
   "outputs": [
    {
     "data": {
      "text/plain": [
       "6"
      ]
     },
     "execution_count": 98,
     "metadata": {},
     "output_type": "execute_result"
    }
   ],
   "source": [
    "def poly(x, a, b, c):\n",
    "    y = a * x ** 2 + b * x + c\n",
    "    return y\n",
    "\n",
    "x = 1\n",
    "poly(x, 1, 2, 3)"
   ]
  },
  {
   "cell_type": "code",
   "execution_count": 99,
   "metadata": {
    "collapsed": false
   },
   "outputs": [
    {
     "data": {
      "text/plain": [
       "array([0, 1, 2, 3, 4, 5, 6, 7, 8, 9])"
      ]
     },
     "execution_count": 99,
     "metadata": {},
     "output_type": "execute_result"
    }
   ],
   "source": [
    "arange(10)"
   ]
  },
  {
   "cell_type": "code",
   "execution_count": 100,
   "metadata": {
    "collapsed": false
   },
   "outputs": [
    {
     "data": {
      "text/plain": [
       "[0, 1, 2, 3, 4, 5, 6, 7, 8, 9]"
      ]
     },
     "execution_count": 100,
     "metadata": {},
     "output_type": "execute_result"
    }
   ],
   "source": [
    "range(10)"
   ]
  },
  {
   "cell_type": "code",
   "execution_count": 101,
   "metadata": {
    "collapsed": false
   },
   "outputs": [
    {
     "data": {
      "text/plain": [
       "8532"
      ]
     },
     "execution_count": 101,
     "metadata": {},
     "output_type": "execute_result"
    }
   ],
   "source": [
    "os.getpid()"
   ]
  },
  {
   "cell_type": "code",
   "execution_count": 105,
   "metadata": {
    "collapsed": false
   },
   "outputs": [
    {
     "data": {
      "text/plain": [
       "'\\\\'"
      ]
     },
     "execution_count": 105,
     "metadata": {},
     "output_type": "execute_result"
    }
   ],
   "source": [
    "os.sep"
   ]
  },
  {
   "cell_type": "code",
   "execution_count": 106,
   "metadata": {
    "collapsed": true
   },
   "outputs": [],
   "source": [
    "class Person(object):\n",
    "    def __init__(self, first, last, age):\n",
    "        self.first = first\n",
    "        self.last = last\n",
    "        self.age = age\n",
    "    def full_name(self):\n",
    "        return self.first + ' ' + self.last"
   ]
  },
  {
   "cell_type": "code",
   "execution_count": 107,
   "metadata": {
    "collapsed": true
   },
   "outputs": [],
   "source": [
    "person = Person('Mertle', 'Sedgewick', 52)"
   ]
  },
  {
   "cell_type": "code",
   "execution_count": 109,
   "metadata": {
    "collapsed": false
   },
   "outputs": [
    {
     "name": "stdout",
     "output_type": "stream",
     "text": [
      "Mertle\n",
      "Mertle Sedgewick\n"
     ]
    }
   ],
   "source": [
    "print person.first\n",
    "print person.full_name()"
   ]
  },
  {
   "cell_type": "code",
   "execution_count": 112,
   "metadata": {
    "collapsed": false
   },
   "outputs": [
    {
     "data": {
      "text/plain": [
       "'Mertle Smith'"
      ]
     },
     "execution_count": 112,
     "metadata": {},
     "output_type": "execute_result"
    }
   ],
   "source": [
    "person.last = 'Smith'\n",
    "person.full_name()"
   ]
  },
  {
   "cell_type": "code",
   "execution_count": 113,
   "metadata": {
    "collapsed": false
   },
   "outputs": [
    {
     "data": {
      "text/plain": [
       "{'cats': 4, 'dog': 'dog', 'dogs': 'dogs'}"
      ]
     },
     "execution_count": 113,
     "metadata": {},
     "output_type": "execute_result"
    }
   ],
   "source": [
    "person.critters = d\n",
    "person.critters"
   ]
  },
  {
   "cell_type": "code",
   "execution_count": 119,
   "metadata": {
    "collapsed": false
   },
   "outputs": [
    {
     "data": {
      "text/plain": [
       "[['Date', 'Open', 'High', 'Low', 'Close', 'Volume', 'Adj Close\\n'],\n",
       " ['2013-11-05', '26.32', '26.52', '26.26', '26.42', '24897500', '23.905074\\n'],\n",
       " ['2013-11-04',\n",
       "  '26.59',\n",
       "  '26.59',\n",
       "  '26.309999',\n",
       "  '26.43',\n",
       "  '28166100',\n",
       "  '23.914123\\n'],\n",
       " ['2013-11-01',\n",
       "  '26.049999',\n",
       "  '26.639999',\n",
       "  '26.030001',\n",
       "  '26.540001',\n",
       "  '55634500',\n",
       "  '24.013652\\n']]"
      ]
     },
     "execution_count": 119,
     "metadata": {},
     "output_type": "execute_result"
    }
   ],
   "source": [
    "url = 'http://ichart.finance.yahoo.com/table.csv?s=GE&d=10&e=5&f=2013&g=d&a=0&b=2&c=1962&ignore=.csv'\n",
    "import urllib2\n",
    "ge_csv = urllib2.urlopen(url)\n",
    "data = []\n",
    "for line in ge_csv:\n",
    "    data.append(line.split(','))\n",
    "data[:4]"
   ]
  },
  {
   "cell_type": "code",
   "execution_count": 123,
   "metadata": {
    "collapsed": false
   },
   "outputs": [
    {
     "data": {
      "text/plain": [
       "<matplotlib.axes._subplots.AxesSubplot at 0x19ed1748>"
      ]
     },
     "execution_count": 123,
     "metadata": {},
     "output_type": "execute_result"
    },
    {
     "data": {
      "image/png": "[encoded data removed]",
      "text/plain": [
       "<matplotlib.figure.Figure at 0x1748a048>"
      ]
     },
     "metadata": {},
     "output_type": "display_data"
    }
   ],
   "source": [
    "ge_csv = urllib2.urlopen(url)\n",
    "import pandas\n",
    "ge = pandas.read_csv(ge_csv, index_col=0, parse_dates=True)\n",
    "ge.plot(y='Adj Close')"
   ]
  },
  {
   "cell_type": "code",
   "execution_count": 1,
   "metadata": {
    "collapsed": false
   },
   "outputs": [
    {
     "name": "stdout",
     "output_type": "stream",
     "text": [
      "#1: cat\n",
      "#2: dog\n",
      "#3: monkey\n"
     ]
    }
   ],
   "source": [
    "animals = ['cat', 'dog', 'monkey']\n",
    "for idx, animal in enumerate(animals):\n",
    "    print '#%d: %s' % (idx + 1, animal)"
   ]
  },
  {
   "cell_type": "code",
   "execution_count": 3,
   "metadata": {
    "collapsed": false
   },
   "outputs": [
    {
     "name": "stdout",
     "output_type": "stream",
     "text": [
      "<type 'tuple'>\n",
      "5\n",
      "1\n"
     ]
    }
   ],
   "source": [
    "d = {(x, x + 1): x for x in range(10)}  # 创建\n",
    "t = (5, 6)       # Create a tuple\n",
    "print type(t)    # Prints \"<type 'tuple'>\"\n",
    "print d[t]       # Prints \"5\"\n",
    "print d[(1, 2)]  # Prints \"1\""
   ]
  },
  {
   "cell_type": "code",
   "execution_count": 5,
   "metadata": {
    "collapsed": false
   },
   "outputs": [
    {
     "name": "stdout",
     "output_type": "stream",
     "text": [
      "<type 'list'>\n",
      "<type 'tuple'>\n"
     ]
    }
   ],
   "source": [
    "print type([5,6])\n",
    "print type((5,6))"
   ]
  },
  {
   "cell_type": "code",
   "execution_count": 6,
   "metadata": {
    "collapsed": false
   },
   "outputs": [
    {
     "data": {
      "text/plain": [
       "[1, 'a', [1]]"
      ]
     },
     "execution_count": 6,
     "metadata": {},
     "output_type": "execute_result"
    }
   ],
   "source": [
    "[1,'a',[1]]"
   ]
  },
  {
   "cell_type": "code",
   "execution_count": 7,
   "metadata": {
    "collapsed": false
   },
   "outputs": [
    {
     "data": {
      "text/plain": [
       "(1, 'a', [1])"
      ]
     },
     "execution_count": 7,
     "metadata": {},
     "output_type": "execute_result"
    }
   ],
   "source": [
    "(1,'a',[1])"
   ]
  },
  {
   "cell_type": "code",
   "execution_count": 9,
   "metadata": {
    "collapsed": false
   },
   "outputs": [
    {
     "name": "stdout",
     "output_type": "stream",
     "text": [
      "[[ 4  5]\n",
      " [ 8 10]\n",
      " [12 15]]\n"
     ]
    }
   ],
   "source": [
    "import numpy as np\n",
    "v = np.array([1,2,3])  # v has shape (3,)\n",
    "w = np.array([4,5])    # w has shape (2,)\n",
    "# 首先把v变成一个列向量\n",
    "# v现在的形状是(3, 1);\n",
    "# 作用在w上得到的结果形状是(3, 2)，如下\n",
    "# [[ 4  5]\n",
    "#  [ 8 10]\n",
    "#  [12 15]]\n",
    "print np.reshape(v, (3, 1)) * w\n"
   ]
  },
  {
   "cell_type": "code",
   "execution_count": 12,
   "metadata": {
    "collapsed": false
   },
   "outputs": [
    {
     "name": "stdout",
     "output_type": "stream",
     "text": [
      "[[1]\n",
      " [2]\n",
      " [3]]\n"
     ]
    }
   ],
   "source": [
    "print np.reshape(v,(3,1))*w"
   ]
  },
  {
   "cell_type": "code",
   "execution_count": 17,
   "metadata": {
    "collapsed": false
   },
   "outputs": [],
   "source": [
    "from scipy.misc import imread"
   ]
  },
  {
   "cell_type": "code",
   "execution_count": null,
   "metadata": {
    "collapsed": false
   },
   "outputs": [],
   "source": []
  },
  {
   "cell_type": "code",
   "execution_count": 26,
   "metadata": {
    "collapsed": false
   },
   "outputs": [
    {
     "name": "stdout",
     "output_type": "stream",
     "text": [
      "Object `sys.pickle.load` not found.\n"
     ]
    }
   ],
   "source": [
    "sys.pickle.load?"
   ]
  },
  {
   "cell_type": "code",
   "execution_count": null,
   "metadata": {
    "collapsed": true
   },
   "outputs": [],
   "source": []
  }
 ],
 "metadata": {
  "kernelspec": {
   "display_name": "Python 3",
   "language": "python",
   "name": "python3"
  },
  "language_info": {
   "codemirror_mode": {
    "name": "ipython",
    "version": 3
   },
   "file_extension": ".py",
   "mimetype": "text/x-python",
   "name": "python",
   "nbconvert_exporter": "python",
   "pygments_lexer": "ipython3",
   "version": "3.5.2"
  }
 },
 "nbformat": 4,
 "nbformat_minor": 0
}
