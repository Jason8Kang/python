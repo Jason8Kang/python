{
 "cells": [
  {
   "cell_type": "markdown",
   "metadata": {},
   "source": [
    "# 中文 Python 笔记\n",
    "\n",
    "> 作者：jason<br>\n",
    "\n",
    "`Github` 加载 `.ipynb` 的速度较慢，建议在 [Nbviewer](http://nbviewer.ipython.org) 中查看该项目。\n",
    "\n",
    "---\n",
    "\n",
    "## 简介\n",
    "\n",
    "大部分内容来自网络课程，自己做些简单笔记。\n",
    "\n",
    "推荐使用 [Anaconda](http://www.continuum.io/downloads)，这个IDE集成了大部分常用的包。\n",
    "\n",
    "笔记内容使用 `ipython notebook` 来展示。\n",
    "\n",
    "安装好 `Python` 和相应的包之后，可以在命令行下输入：\n",
    "\n",
    "```\n",
    "$ jupyter notebook\n",
    "```\n",
    "\n",
    "## 基本环境配置\n",
    "\n",
    "- 安装 [Anaconda](http://www.continuum.io/downloads) 或者 [Miniconda](http://conda.pydata.org/miniconda.html)\n",
    "\n",
    "- 更新环境\n",
    "``` \n",
    "conda update conda\n",
    "conda update anaconda\n",
    "```\n",
    "\n",
    "---\n",
    "\n",
    "## 目录\n",
    "以下仅是自己学习笔记，很多内容还不是很全。\n",
    "- Tensorflow\n",
    " - movan tutorial\n",
    " - offical tutorial\n",
    "- cs231\n",
    "- 小象学院\n",
    "- Udacity\n",
    "- sklearn教程官网\n"
   ]
  }
 ],
 "metadata": {
  "anaconda-cloud": {},
  "kernelspec": {
   "display_name": "Python [default]",
   "language": "python",
   "name": "python2"
  },
  "language_info": {
   "codemirror_mode": {
    "name": "ipython",
    "version": 2
   },
   "file_extension": ".py",
   "mimetype": "text/x-python",
   "name": "python",
   "nbconvert_exporter": "python",
   "pygments_lexer": "ipython2",
   "version": "2.7.12"
  }
 },
 "nbformat": 4,
 "nbformat_minor": 1
}
